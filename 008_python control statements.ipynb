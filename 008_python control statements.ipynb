{
 "cells": [
  {
   "cell_type": "markdown",
   "metadata": {},
   "source": [
    "### statement\n",
    "\n",
    "---->> An instruction which can be executable with in the program\n",
    "\n",
    "####  program\n",
    "\n",
    "--->> collection of statements to do any one specific task\n",
    "\n",
    "#### how of execution of the program\n",
    "\n",
    "--->>  the execution of the program its statement by statement \n",
    "\n",
    "#### control statements\n",
    "\n",
    "--->> the flow of the execution of the program can changes \n",
    "\n",
    "1. conditional statement\n",
    "\n",
    "2. looping statements\n",
    "\n",
    "3. control keywords \n",
    "\n",
    "#### conditional statement\n",
    "\n",
    "--->>  the execution of the statements is depends on condition\n",
    "\n",
    "1. simple if \n",
    "\n",
    "2. if and else\n",
    "\n",
    "3. elif ladder\n",
    "\n",
    "4. nested if\n",
    "\n",
    "##### simple if \n",
    "\n",
    "if --->> keyword ( checking the condition)\n",
    "\n"
   ]
  },
  {
   "cell_type": "code",
   "execution_count": 1,
   "metadata": {},
   "outputs": [
    {
     "name": "stdout",
     "output_type": "stream",
     "text": [
      "enter age : 12\n",
      "if block over\n"
     ]
    }
   ],
   "source": [
    "'''\n",
    "if( condition):\n",
    "   \n",
    "   Statment1\n",
    "   \n",
    "   ---------\n",
    "   \n",
    "   ---------\n",
    "'''\n",
    "# wap apply the voter id based on age \n",
    "age = input(\"enter age : \")\n",
    "if(age >= 18):\n",
    "    print \"applyting voter id application\"\n",
    "    name = input(\"enter name\")\n",
    "    phone = input(\"enter name\")\n",
    "print(\"if block over\")"
   ]
  },
  {
   "cell_type": "code",
   "execution_count": 3,
   "metadata": {},
   "outputs": [
    {
     "name": "stdout",
     "output_type": "stream",
     "text": [
      "enter age : 25\n",
      "applyting voter id application\n",
      "enter name\"anjan\"\n",
      "enter phone 9640987960\n",
      "if block over\n"
     ]
    }
   ],
   "source": [
    "# wap apply the voter id based on age \n",
    "age = input(\"enter age : \")\n",
    "if(age >= 18):\n",
    "    print \"applyting voter id application\"\n",
    "    name = input(\"enter name\")\n",
    "    phone = input(\"enter phone \")\n",
    "print(\"if block over\")"
   ]
  },
  {
   "cell_type": "code",
   "execution_count": 4,
   "metadata": {},
   "outputs": [
    {
     "name": "stdout",
     "output_type": "stream",
     "text": [
      "enter age : 78\n",
      "applying for voter id \n",
      " if and else block over\n"
     ]
    }
   ],
   "source": [
    "# if and else\n",
    "'''\n",
    "if( conditon ):\n",
    "    Task1\n",
    "    ----\n",
    "    ----\n",
    "else:\n",
    "    Task2\n",
    "    ----\n",
    "    ----\n",
    "'''\n",
    "# wap apply voter id or aadhar id based on age\n",
    "age = input(\"enter age : \")\n",
    "if(age >= 18):\n",
    "    print \"applying for voter id \"\n",
    "else:\n",
    "    print \"applying the aadhar id \"\n",
    "print\" if and else block over\"\n"
   ]
  },
  {
   "cell_type": "code",
   "execution_count": 5,
   "metadata": {},
   "outputs": [
    {
     "name": "stdout",
     "output_type": "stream",
     "text": [
      "enter age : 15\n",
      "applying the aadhar id \n",
      " if and else block over\n"
     ]
    }
   ],
   "source": [
    "# wap apply voter id or aadhar id based on age\n",
    "age = input(\"enter age : \")\n",
    "if(age >= 18):\n",
    "    print \"applying for voter id \"\n",
    "else:\n",
    "    print \"applying the aadhar id \"\n",
    "    \n",
    "print\"if and else block over\"\n"
   ]
  },
  {
   "cell_type": "code",
   "execution_count": 7,
   "metadata": {},
   "outputs": [
    {
     "name": "stdout",
     "output_type": "stream",
     "text": [
      "enter exp : 8\n",
      "salary for  8  Years of Exp  is 12L PA\n"
     ]
    }
   ],
   "source": [
    "# elif ladder\n",
    "'''\n",
    "if( c1):\n",
    "    Task1\n",
    "elif(C2):\n",
    "    Task2\n",
    "elif(C3):\n",
    "    Task3\n",
    "------\n",
    "-----\n",
    "else:\n",
    "    default\n",
    "    \n",
    "block over\n",
    "'''\n",
    "#wap fix the salary based on \n",
    "exp = input(\"enter exp : \")\n",
    "if(exp < 1):\n",
    "    print \"basic salary : 3L PA\"\n",
    "elif(exp <3):\n",
    "    print \"salary for \",exp,\" Years of Exp  is 5L PA\"\n",
    "elif(exp <6):\n",
    "    print \"salary for \",exp,\" Years of Exp  is 8L PA\"\n",
    "elif(exp <10):\n",
    "    print \"salary for \",exp,\" Years of Exp  is 12L PA\"\n",
    "elif(exp <15):\n",
    "    print \"salary for \",exp,\" Years of Exp  is 20 PA\"\n",
    "elif(exp <20):\n",
    "    print \"salary for \",exp,\" Years of Exp is 30L PA\"\n",
    "else:\n",
    "    print \"salary is : 50 L PA\""
   ]
  },
  {
   "cell_type": "code",
   "execution_count": 11,
   "metadata": {},
   "outputs": [
    {
     "name": "stdout",
     "output_type": "stream",
     "text": [
      "enter exp : \"dfdd\"\n",
      "please enter int or float exp\n"
     ]
    }
   ],
   "source": [
    "# nested if \n",
    "'''\n",
    "block :\n",
    "\n",
    "    block\n",
    "'''\n",
    "#wap fix the salary based on \n",
    "exp = input(\"enter exp : \")\n",
    "if(isinstance(exp, int ) or isinstance(exp, float)):\n",
    "    if(exp >0):\n",
    "        if(exp < 1):\n",
    "            print \"basic salary : 3L PA\"\n",
    "        elif(exp <3):\n",
    "            print \"salary for \",exp,\" Years of Exp  is 5L PA\"\n",
    "        elif(exp <6):\n",
    "            print \"salary for \",exp,\" Years of Exp  is 8L PA\"\n",
    "        elif(exp <10):\n",
    "            print \"salary for \",exp,\" Years of Exp  is 12L PA\"\n",
    "        elif(exp <15):\n",
    "            print \"salary for \",exp,\" Years of Exp  is 20 PA\"\n",
    "        elif(exp <20):\n",
    "            print \"salary for \",exp,\" Years of Exp is 30L PA\"\n",
    "        else:\n",
    "            print \"salary is : 50 L PA\"\n",
    "    else:\n",
    "        print \"please enter positive exp\"\n",
    "else:\n",
    "    print \"please enter int or float exp\""
   ]
  },
  {
   "cell_type": "code",
   "execution_count": 12,
   "metadata": {},
   "outputs": [
    {
     "name": "stdout",
     "output_type": "stream",
     "text": [
      "enter exp : -8\n",
      "please enter positive exp\n"
     ]
    }
   ],
   "source": [
    "# nested if \n",
    "'''\n",
    "block :\n",
    "\n",
    "    block\n",
    "'''\n",
    "#wap fix the salary based on \n",
    "exp = input(\"enter exp : \")\n",
    "if(isinstance(exp, int ) or isinstance(exp, float)):\n",
    "    if(exp >0):\n",
    "        if(exp < 1):\n",
    "            print \"basic salary : 3L PA\"\n",
    "        elif(exp <3):\n",
    "            print \"salary for \",exp,\" Years of Exp  is 5L PA\"\n",
    "        elif(exp <6):\n",
    "            print \"salary for \",exp,\" Years of Exp  is 8L PA\"\n",
    "        elif(exp <10):\n",
    "            print \"salary for \",exp,\" Years of Exp  is 12L PA\"\n",
    "        elif(exp <15):\n",
    "            print \"salary for \",exp,\" Years of Exp  is 20 PA\"\n",
    "        elif(exp <20):\n",
    "            print \"salary for \",exp,\" Years of Exp is 30L PA\"\n",
    "        else:\n",
    "            print \"salary is : 50 L PA\"\n",
    "    else:\n",
    "        print \"please enter positive exp\"\n",
    "else:\n",
    "    print \"please enter int or float exp\""
   ]
  },
  {
   "cell_type": "code",
   "execution_count": 13,
   "metadata": {},
   "outputs": [
    {
     "name": "stdout",
     "output_type": "stream",
     "text": [
      "enter exp : 8\n",
      "salary for  8  Years of Exp  is 12L PA\n"
     ]
    }
   ],
   "source": [
    "# nested if \n",
    "'''\n",
    "block :\n",
    "\n",
    "    block\n",
    "'''\n",
    "#wap fix the salary based on \n",
    "exp = input(\"enter exp : \")\n",
    "if(isinstance(exp, int ) or isinstance(exp, float)):\n",
    "    if(exp >0):\n",
    "        if(exp < 1):\n",
    "            print \"basic salary : 3L PA\"\n",
    "        elif(exp <3):\n",
    "            print \"salary for \",exp,\" Years of Exp  is 5L PA\"\n",
    "        elif(exp <6):\n",
    "            print \"salary for \",exp,\" Years of Exp  is 8L PA\"\n",
    "        elif(exp <10):\n",
    "            print \"salary for \",exp,\" Years of Exp  is 12L PA\"\n",
    "        elif(exp <15):\n",
    "            print \"salary for \",exp,\" Years of Exp  is 20 PA\"\n",
    "        elif(exp <20):\n",
    "            print \"salary for \",exp,\" Years of Exp is 30L PA\"\n",
    "        else:\n",
    "            print \"salary is : 50 L PA\"\n",
    "    else:\n",
    "        print \"please enter positive exp\"\n",
    "else:\n",
    "    print \"please enter int or float exp\""
   ]
  },
  {
   "cell_type": "code",
   "execution_count": 1,
   "metadata": {},
   "outputs": [
    {
     "name": "stdout",
     "output_type": "stream",
     "text": [
      "hello\n",
      "hello\n",
      "hello\n",
      "hello\n",
      "hello\n",
      "hello\n",
      "hello\n",
      "hello\n",
      "hello\n",
      "hello\n"
     ]
    }
   ],
   "source": [
    "# looping statemenets\n",
    "print \"hello\"\n",
    "print \"hello\"\n",
    "print \"hello\"\n",
    "print \"hello\"\n",
    "print \"hello\"\n",
    "print \"hello\"\n",
    "print \"hello\"\n",
    "print \"hello\"\n",
    "print \"hello\"\n",
    "print \"hello\""
   ]
  },
  {
   "cell_type": "code",
   "execution_count": 2,
   "metadata": {},
   "outputs": [
    {
     "name": "stdout",
     "output_type": "stream",
     "text": [
      "1  : hello\n",
      "2  : hello\n",
      "3  : hello\n",
      "4  : hello\n",
      "5  : hello\n",
      "6  : hello\n",
      "7  : hello\n",
      "8  : hello\n",
      "9  : hello\n",
      "10  : hello\n",
      "while condition failed\n",
      "while loop over\n"
     ]
    }
   ],
   "source": [
    "# while , for loops\n",
    "'''\n",
    "while( condition ):\n",
    "    Task\n",
    "    ----\n",
    "    ----\n",
    "    ----\n",
    "else:\n",
    "    Task\n",
    "    ----\n",
    "    ----\n",
    "    \n",
    "loop over\n",
    "'''\n",
    "i = 1\n",
    "while(i <= 10):\n",
    "    print i,\" : hello\"\n",
    "    i = i + 1\n",
    "else:\n",
    "    print \"while condition failed\"\n",
    "print \"while loop over\""
   ]
  },
  {
   "cell_type": "code",
   "execution_count": 3,
   "metadata": {},
   "outputs": [
    {
     "name": "stdout",
     "output_type": "stream",
     "text": [
      "enter N value : 10\n",
      "sum :  55\n",
      "while loop over\n"
     ]
    }
   ],
   "source": [
    "# wap print the sum of 1st N natural number\n",
    "# 1+2+3+4+5+6+7------N\n",
    "N = input(\"enter N value : \")\n",
    "sum = 0\n",
    "i = 1\n",
    "while(i <= N):\n",
    "    sum = sum + i\n",
    "    i = i + 1\n",
    "    \n",
    "else:\n",
    "    print \"sum : \",sum\n",
    "print \"while loop over\""
   ]
  },
  {
   "cell_type": "code",
   "execution_count": 5,
   "metadata": {},
   "outputs": [
    {
     "name": "stdout",
     "output_type": "stream",
     "text": [
      "enter N value : 3\n",
      "sum :  14\n",
      "while loop over\n"
     ]
    }
   ],
   "source": [
    "# wap find the sum of squares of 1st N natural number\n",
    "# 1^2 + 2^2+3^2+4^2+5^2------N^2\n",
    "N = input(\"enter N value : \")\n",
    "sum = 0\n",
    "i = 1\n",
    "while(i <= N):\n",
    "    sum = sum + (i**2)\n",
    "    i = i + 1\n",
    "    \n",
    "else:\n",
    "    print \"sum : \",sum\n",
    "print \"while loop over\""
   ]
  },
  {
   "cell_type": "code",
   "execution_count": null,
   "metadata": {},
   "outputs": [],
   "source": [
    "#wap find the sum of cubes of 1st N natural numbers \n",
    "#1^3+2^3+3^3+4^3------N^3"
   ]
  },
  {
   "cell_type": "code",
   "execution_count": 6,
   "metadata": {},
   "outputs": [],
   "source": [
    "# wap find the factorail of a number\n",
    "# 5 --->> 1*2*3*4*5 -->> 120"
   ]
  },
  {
   "cell_type": "code",
   "execution_count": 8,
   "metadata": {},
   "outputs": [
    {
     "name": "stdout",
     "output_type": "stream",
     "text": [
      "enter N : 516\n",
      "516  sum of digits :  12\n"
     ]
    }
   ],
   "source": [
    "# wap sum of digits in a number \n",
    "# 123 --->> 1+2+3 --->> 6\n",
    "# 516  --->> 5+1+6 -->> 12\n",
    "N = input(\"enter N : \")\n",
    "sum = 0\n",
    "temp = N\n",
    "while(temp != 0):\n",
    "    rem = temp%10\n",
    "    sum =  sum + rem\n",
    "    temp = temp // 10\n",
    "else:\n",
    "    print N,\" sum of digits : \",sum"
   ]
  },
  {
   "cell_type": "code",
   "execution_count": null,
   "metadata": {},
   "outputs": [],
   "source": [
    "# wap sum of squares of digits in a number\n",
    "# wap sum of cubes of digits in a number\n",
    "# wap reverse of a number  # 341  --->> 143\n",
    "# wap generate 10 fibonic series element   0  1  1  2  3  5  8 -->\n",
    "# wap find the no of factors of a number\n",
    "# wap find the sum of factors of a number\n",
    "# wap find the given number is prime number or not"
   ]
  },
  {
   "cell_type": "code",
   "execution_count": 1,
   "metadata": {},
   "outputs": [
    {
     "name": "stdout",
     "output_type": "stream",
     "text": [
      "enter a seq  : [1,6,2,6]\n",
      "1\n",
      "6\n",
      "2\n",
      "6\n",
      "no more updates \n"
     ]
    }
   ],
   "source": [
    "# for loop\n",
    "'''\n",
    "--->>> which is not depending on condition\n",
    "--->>> based on the no of elements in a sequence\n",
    "\n",
    "for ele  in  seq:\n",
    "    Task\n",
    "else:\n",
    "    no more updates \n",
    "    \n",
    "'''\n",
    "# wap print the all elements in any seq\n",
    "seq = input(\"enter a seq  : \")\n",
    "for ele in seq : \n",
    "    print ele\n",
    "else:\n",
    "    print \"no more updates \""
   ]
  },
  {
   "cell_type": "code",
   "execution_count": 2,
   "metadata": {},
   "outputs": [
    {
     "name": "stdout",
     "output_type": "stream",
     "text": [
      "enter a seq  : [0,5,3,2,8,1]\n",
      "0\n",
      "2\n",
      "8\n",
      "no more updates \n"
     ]
    }
   ],
   "source": [
    "# wap print the even numbers from list\n",
    "seq = input(\"enter a seq  : \")\n",
    "for ele in seq :\n",
    "    if(isinstance(ele,int)):\n",
    "        if(ele%2 == 0):\n",
    "            print ele\n",
    "else:\n",
    "    print \"no more updates \""
   ]
  },
  {
   "cell_type": "code",
   "execution_count": 3,
   "metadata": {},
   "outputs": [
    {
     "data": {
      "text/plain": [
       "[0, 1, 2, 3, 4, 5, 6, 7, 8, 9]"
      ]
     },
     "execution_count": 3,
     "metadata": {},
     "output_type": "execute_result"
    }
   ],
   "source": [
    "range(10)"
   ]
  },
  {
   "cell_type": "code",
   "execution_count": 4,
   "metadata": {},
   "outputs": [
    {
     "data": {
      "text/plain": [
       "[20, 21, 22, 23, 24, 25, 26, 27, 28, 29]"
      ]
     },
     "execution_count": 4,
     "metadata": {},
     "output_type": "execute_result"
    }
   ],
   "source": [
    "range(20,30)"
   ]
  },
  {
   "cell_type": "code",
   "execution_count": 5,
   "metadata": {},
   "outputs": [
    {
     "data": {
      "text/plain": [
       "[20, 23, 26, 29, 32, 35, 38]"
      ]
     },
     "execution_count": 5,
     "metadata": {},
     "output_type": "execute_result"
    }
   ],
   "source": [
    "range(20,40,3)"
   ]
  },
  {
   "cell_type": "code",
   "execution_count": 7,
   "metadata": {},
   "outputs": [],
   "source": [
    "# pass  --->> to create the empty block\n",
    "for i  in range(100):\n",
    "    pass"
   ]
  },
  {
   "cell_type": "code",
   "execution_count": 8,
   "metadata": {},
   "outputs": [
    {
     "name": "stdout",
     "output_type": "stream",
     "text": [
      "enter a seq  : [5,6,4.5,2,1]\n",
      "6\n",
      "2\n",
      "no more updates \n"
     ]
    }
   ],
   "source": [
    "# continue --->> to skip the present iteration and continue the next iteration\n",
    "# wap print even number\n",
    "seq = input(\"enter a seq  : \")\n",
    "for ele in seq :\n",
    "    if(not isinstance(ele, int)):\n",
    "        continue\n",
    "    elif(ele%2 !=0 ):\n",
    "        continue\n",
    "    print ele\n",
    "else:\n",
    "    print \"no more updates \""
   ]
  },
  {
   "cell_type": "code",
   "execution_count": 10,
   "metadata": {},
   "outputs": [
    {
     "name": "stdout",
     "output_type": "stream",
     "text": [
      "enter a num : 5\n",
      "5 is prime \n"
     ]
    }
   ],
   "source": [
    "# break --->> to terminate the loop\n",
    "# wap find the given number is prime number or not\n",
    "num = input(\"enter a num : \")\n",
    "for ele in range(2,num):\n",
    "    if(num % ele == 0):\n",
    "        break\n",
    "else:\n",
    "    print num, \"is prime \""
   ]
  },
  {
   "cell_type": "code",
   "execution_count": null,
   "metadata": {},
   "outputs": [],
   "source": [
    "# wap sum of squares of digits in a number\n",
    "# wap sum of cubes of digits in a number\n",
    "# wap reverse of a number  # 341  --->> 143\n",
    "# wap generate 10 fibonic series element   0  1  1  2  3  5  8 -->\n",
    "# wap find the no of factors of a number\n",
    "# wap find the sum of factors of a number\n",
    "# wap find the given number is prime number or not"
   ]
  },
  {
   "cell_type": "code",
   "execution_count": 2,
   "metadata": {},
   "outputs": [
    {
     "name": "stdout",
     "output_type": "stream",
     "text": [
      "enter last natural number : 10\n",
      "var :  3\n",
      "var :  5\n",
      "var :  6\n",
      "var :  9\n",
      "sum :  23\n"
     ]
    }
   ],
   "source": [
    "'''\n",
    "If we list all the natural numbers below 10 that are multiples of 3 or 5, we get 3, 5, 6 and 9. \n",
    "The sum of these multiples is 23.\n",
    "'''\n",
    "num = input(\"enter last natural number : \")\n",
    "sum = 0\n",
    "for var in range(1,num):\n",
    "    if(var%3 ==0  or var % 5 ==0 ):\n",
    "        print \"var : \",var\n",
    "        sum = sum + var\n",
    "else:\n",
    "    print \"sum : \",sum\n",
    "        "
   ]
  },
  {
   "cell_type": "code",
   "execution_count": 6,
   "metadata": {},
   "outputs": [
    {
     "name": "stdout",
     "output_type": "stream",
     "text": [
      "enter no of fibonic elements : 10\n",
      "1 2 3 5 8 13 21 34 55 89 \n",
      "even fibonnic list :  [2, 8, 34]\n",
      "sum :  44\n"
     ]
    }
   ],
   "source": [
    "'''\n",
    "Each new term in the Fibonacci sequence is generated by adding the previous two terms.\n",
    "By starting with 1 and 2, the first 10 terms will be:\n",
    "\n",
    "1, 2, 3, 5, 8, 13, 21, 34, 55, 89, ...\n",
    "\n",
    "By considering the terms in the Fibonacci sequence .find the sum of the even-valued terms.\n",
    "'''\n",
    "n = input(\"enter no of fibonic elements : \")\n",
    "a = 1\n",
    "b = 2\n",
    "sum = 0\n",
    "list = []\n",
    "while(n!=0):\n",
    "    print a,\n",
    "    if(a % 2 ==0):\n",
    "        list.append(a)\n",
    "        sum = sum+a\n",
    "    c = a+b\n",
    "    a = b\n",
    "    b = c\n",
    "    n= n-1\n",
    "\n",
    "else:\n",
    "    print \"\\neven fibonnic list : \",list\n",
    "    print \"sum : \",sum"
   ]
  },
  {
   "cell_type": "code",
   "execution_count": 12,
   "metadata": {},
   "outputs": [
    {
     "name": "stdout",
     "output_type": "stream",
     "text": [
      "enter num : 10\n",
      "all factor of  10  are [1, 2, 5, 10]\n",
      "all prime factors :  [2, 5]\n",
      "largest prime factor :  5\n"
     ]
    }
   ],
   "source": [
    "#What is the largest prime factor of the number 13195 \n",
    "num = input(\"enter num : \")\n",
    "l_f = []\n",
    "f_p = []\n",
    "for var in range(1, num+1):\n",
    "    if(num % var == 0):\n",
    "        l_f.append(var)\n",
    "        c = 0 \n",
    "        for i in range(1,var+1):\n",
    "            if(var % i ==0 ):\n",
    "                c = c+1\n",
    "        if( c == 2):\n",
    "            f_p.append(var)\n",
    "print \"all factor of \",num,\" are\",l_f\n",
    "print \"all prime factors : \",f_p\n",
    "print \"largest prime factor : \",f_p[-1]"
   ]
  },
  {
   "cell_type": "code",
   "execution_count": null,
   "metadata": {},
   "outputs": [],
   "source": []
  },
  {
   "cell_type": "code",
   "execution_count": null,
   "metadata": {},
   "outputs": [],
   "source": []
  }
 ],
 "metadata": {
  "kernelspec": {
   "display_name": "Python 2",
   "language": "python",
   "name": "python2"
  },
  "language_info": {
   "codemirror_mode": {
    "name": "ipython",
    "version": 2
   },
   "file_extension": ".py",
   "mimetype": "text/x-python",
   "name": "python",
   "nbconvert_exporter": "python",
   "pygments_lexer": "ipython2",
   "version": "2.7.16"
  }
 },
 "nbformat": 4,
 "nbformat_minor": 2
}
