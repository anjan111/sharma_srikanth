{
 "cells": [
  {
   "cell_type": "code",
   "execution_count": 3,
   "metadata": {},
   "outputs": [
    {
     "name": "stdout",
     "output_type": "stream",
     "text": [
      "[]\n",
      "<type 'list'>\n",
      "75507784\n"
     ]
    }
   ],
   "source": [
    "# list datatype\n",
    "'''\n",
    "collection of elements with in []\n",
    "'''\n",
    "var = []\n",
    "print var\n",
    "print type(var)\n",
    "print id(var)"
   ]
  },
  {
   "cell_type": "code",
   "execution_count": 5,
   "metadata": {},
   "outputs": [
    {
     "name": "stdout",
     "output_type": "stream",
     "text": [
      "[12, 6.2, (5+3j), None, True, 'soc', [1, 2], (1, 2), set([1, 2]), {45: 'con'}]\n",
      "<type 'list'>\n",
      "74443016\n"
     ]
    }
   ],
   "source": [
    "# hetro genious datatype\n",
    "var = [12,6.2,5+3j,None,True, \"soc\",[1,2],(1,2),{1,2},{45:\"con\"}]\n",
    "print var\n",
    "print type(var)\n",
    "print id(var)"
   ]
  },
  {
   "cell_type": "code",
   "execution_count": 8,
   "metadata": {},
   "outputs": [
    {
     "name": "stdout",
     "output_type": "stream",
     "text": [
      "positive index\n",
      "12\n",
      "6.2\n",
      "(5+3j)\n",
      "None\n",
      "True\n",
      "{45: 'con'}\n",
      "negative index\n",
      "{45: 'con'}\n",
      "set([1, 2])\n",
      "(1, 2)\n",
      "[1, 2]\n",
      "12\n"
     ]
    }
   ],
   "source": [
    "# access the list elements from list\n",
    "'''\n",
    "# indexing --->>  single list element\n",
    "# slicing  --->>  multiple  continous list elements\n",
    "# dicing   --->>  multiple periodical list elements\n",
    "'''\n",
    "var = [12,6.2,5+3j,None,True, \"soc\",[1,2],(1,2),{1,2},{45:\"con\"}]\n",
    "print \"positive index\"\n",
    "print var[0]\n",
    "print var[1]\n",
    "print var[2]\n",
    "print var[3]\n",
    "print var[4]\n",
    "print var[9]\n",
    "print \"negative index\"\n",
    "print var[-1]\n",
    "print var[-2]\n",
    "print var[-3]\n",
    "print var[-4]\n",
    "print var[-10]"
   ]
  },
  {
   "cell_type": "code",
   "execution_count": 11,
   "metadata": {},
   "outputs": [
    {
     "name": "stdout",
     "output_type": "stream",
     "text": [
      "<type 'tuple'>\n",
      "positive index\n",
      "12\n",
      "6.2\n",
      "(5+3j)\n",
      "None\n",
      "True\n",
      "{45: 'con'}\n",
      "negative index\n",
      "{45: 'con'}\n",
      "set([1, 2])\n",
      "(1, 2)\n",
      "[1, 2]\n",
      "12\n"
     ]
    }
   ],
   "source": [
    "var = (12,6.2,5+3j,None,True, \"soc\",[1,2],(1,2),{1,2},{45:\"con\"})\n",
    "print type(var)\n",
    "print \"positive index\"\n",
    "print var[0]\n",
    "print var[1]\n",
    "print var[2]\n",
    "print var[3]\n",
    "print var[4]\n",
    "print var[9]\n",
    "print \"negative index\"\n",
    "print var[-1]\n",
    "print var[-2]\n",
    "print var[-3]\n",
    "print var[-4]\n",
    "print var[-10]"
   ]
  },
  {
   "cell_type": "code",
   "execution_count": 13,
   "metadata": {},
   "outputs": [
    {
     "name": "stdout",
     "output_type": "stream",
     "text": [
      "[None, True, 'soc', [1, 2]]\n",
      "[12, 6.2, (5+3j), None, True, 'soc', [1, 2]]\n",
      "[None, True, 'soc', [1, 2], (1, 2), set([1, 2]), {45: 'con'}]\n"
     ]
    }
   ],
   "source": [
    "# list slicing\n",
    "var = [12,6.2,5+3j,None,True, \"soc\",[1,2],(1,2),{1,2},{45:\"con\"}]\n",
    "print var[3:7]#[None,True, \"soc\",[1,2]]\n",
    "print var[ : 7]#[12,6.2,5+3j,None,True, \"soc\",[1,2]]\n",
    "print var[3:]#[None,True, \"soc\",[1,2],(1,2),{1,2},{45:\"con\"}]"
   ]
  },
  {
   "cell_type": "code",
   "execution_count": 15,
   "metadata": {},
   "outputs": [
    {
     "name": "stdout",
     "output_type": "stream",
     "text": [
      "(None, True, 'soc', [1, 2])\n",
      "(12, 6.2, (5+3j), None, True, 'soc', [1, 2])\n",
      "(None, True, 'soc', [1, 2], (1, 2), set([1, 2]), {45: 'con'})\n"
     ]
    }
   ],
   "source": [
    "# tuple slicing\n",
    "var = (12,6.2,5+3j,None,True, \"soc\",[1,2],(1,2),{1,2},{45:\"con\"})\n",
    "print var[3:7]#(None,True, \"soc\",[1,2])\n",
    "print var[ : 7]#(12,6.2,5+3j,None,True, \"soc\",[1,2])\n",
    "print var[3:]#(None,True, \"soc\",[1,2],(1,2),{1,2},{45:\"con\"})"
   ]
  },
  {
   "cell_type": "code",
   "execution_count": 18,
   "metadata": {},
   "outputs": [
    {
     "name": "stdout",
     "output_type": "stream",
     "text": [
      "[(5+3j), True, [1, 2], set([1, 2])]\n",
      "[(5+3j), None, True, 'soc', [1, 2], (1, 2), set([1, 2]), {45: 'con'}]\n",
      "[12, (5+3j), True, [1, 2]]\n"
     ]
    }
   ],
   "source": [
    "# list dicing\n",
    "var = [12,6.2,5+3j,None,True, \"soc\",[1,2],(1,2),{1,2},{45:\"con\"}]\n",
    "print var[2:10:2]#[5+3j,True,[1,2],{1,2}]\n",
    "print var[2:10:]#[5+3j,None,True, \"soc\",[1,2],(1,2),{1,2},{45:\"con\"}]\n",
    "print var[:8:2]#[12,5+3j,True,[1,2]]\n"
   ]
  },
  {
   "cell_type": "code",
   "execution_count": 20,
   "metadata": {},
   "outputs": [
    {
     "name": "stdout",
     "output_type": "stream",
     "text": [
      "((5+3j), True, [1, 2], set([1, 2]))\n",
      "((5+3j), None, True, 'soc', [1, 2], (1, 2), set([1, 2]), {45: 'con'})\n",
      "(12, (5+3j), True, [1, 2])\n"
     ]
    }
   ],
   "source": [
    "# tuple dicing \n",
    "var = (12,6.2,5+3j,None,True, \"soc\",[1,2],(1,2),{1,2},{45:\"con\"})\n",
    "print var[2:10:2]#[5+3j,True,[1,2],{1,2}]\n",
    "print var[2:10:]#[5+3j,None,True, \"soc\",[1,2],(1,2),{1,2},{45:\"con\"}]\n",
    "print var[:8:2]#[12,5+3j,True,[1,2]]\n"
   ]
  },
  {
   "cell_type": "code",
   "execution_count": 21,
   "metadata": {},
   "outputs": [
    {
     "name": "stdout",
     "output_type": "stream",
     "text": [
      "34\n",
      "[12, 34, 90]\n",
      "[12, 100, 90]\n"
     ]
    }
   ],
   "source": [
    "# list is mutable datatype\n",
    "var= [12,34,90]\n",
    "print var[1]\n",
    "print var\n",
    "var[1] = 100\n",
    "print var"
   ]
  },
  {
   "cell_type": "code",
   "execution_count": 23,
   "metadata": {},
   "outputs": [
    {
     "name": "stdout",
     "output_type": "stream",
     "text": [
      "34\n",
      "(12, 34, 90)\n"
     ]
    },
    {
     "ename": "TypeError",
     "evalue": "'tuple' object does not support item assignment",
     "output_type": "error",
     "traceback": [
      "\u001b[1;31m---------------------------------------------------------------------------\u001b[0m",
      "\u001b[1;31mTypeError\u001b[0m                                 Traceback (most recent call last)",
      "\u001b[1;32m<ipython-input-23-1ce283e14b90>\u001b[0m in \u001b[0;36m<module>\u001b[1;34m()\u001b[0m\n\u001b[0;32m      3\u001b[0m \u001b[1;32mprint\u001b[0m \u001b[0mvar\u001b[0m\u001b[1;33m[\u001b[0m\u001b[1;36m1\u001b[0m\u001b[1;33m]\u001b[0m\u001b[1;33m\u001b[0m\u001b[0m\n\u001b[0;32m      4\u001b[0m \u001b[1;32mprint\u001b[0m \u001b[0mvar\u001b[0m\u001b[1;33m\u001b[0m\u001b[0m\n\u001b[1;32m----> 5\u001b[1;33m \u001b[0mvar\u001b[0m\u001b[1;33m[\u001b[0m\u001b[1;36m1\u001b[0m\u001b[1;33m]\u001b[0m \u001b[1;33m=\u001b[0m \u001b[1;36m100\u001b[0m\u001b[1;33m\u001b[0m\u001b[0m\n\u001b[0m\u001b[0;32m      6\u001b[0m \u001b[1;32mprint\u001b[0m \u001b[0mvar\u001b[0m\u001b[1;33m\u001b[0m\u001b[0m\n",
      "\u001b[1;31mTypeError\u001b[0m: 'tuple' object does not support item assignment"
     ]
    }
   ],
   "source": [
    "# tuple is immutable datatype\n",
    "var= (12,34,90)\n",
    "print var[1]\n",
    "print var\n",
    "var[1] = 100\n",
    "print var"
   ]
  },
  {
   "cell_type": "code",
   "execution_count": 24,
   "metadata": {},
   "outputs": [
    {
     "name": "stdout",
     "output_type": "stream",
     "text": [
      "110\n",
      "100\n",
      "1\n"
     ]
    }
   ],
   "source": [
    "a = [1,2,3,4,100]\n",
    "print sum(a)\n",
    "print max(a)\n",
    "print min(a)"
   ]
  },
  {
   "cell_type": "code",
   "execution_count": 27,
   "metadata": {},
   "outputs": [
    {
     "name": "stdout",
     "output_type": "stream",
     "text": [
      "110\n",
      "100\n",
      "1\n"
     ]
    }
   ],
   "source": [
    "a = (1,2,3,4,100)\n",
    "print sum(a)\n",
    "print max(a)\n",
    "print min(a)"
   ]
  },
  {
   "cell_type": "code",
   "execution_count": 28,
   "metadata": {},
   "outputs": [
    {
     "name": "stdout",
     "output_type": "stream",
     "text": [
      "[1, 2, 3, 4, 5, 6]\n",
      "[1, 2, 3, 1, 2, 3, 1, 2, 3]\n"
     ]
    }
   ],
   "source": [
    "a = [1,2,3]\n",
    "b = [4,5,6]\n",
    "print a+b\n",
    "print a * 3"
   ]
  },
  {
   "cell_type": "code",
   "execution_count": 30,
   "metadata": {},
   "outputs": [
    {
     "name": "stdout",
     "output_type": "stream",
     "text": [
      "(1, 2, 3, 4, 5, 6)\n",
      "(1, 2, 3, 1, 2, 3, 1, 2, 3)\n"
     ]
    }
   ],
   "source": [
    "a = (1,2,3)\n",
    "b = (4,5,6)\n",
    "print a+b\n",
    "print a * 3"
   ]
  },
  {
   "cell_type": "code",
   "execution_count": 32,
   "metadata": {},
   "outputs": [
    {
     "name": "stdout",
     "output_type": "stream",
     "text": [
      "[1, 2, 3, 4]\n",
      "[1, 2, 3, 4, 12]\n"
     ]
    }
   ],
   "source": [
    "a = [1,2,3,4]\n",
    "print a\n",
    "a.append(12)\n",
    "print a"
   ]
  },
  {
   "cell_type": "code",
   "execution_count": 35,
   "metadata": {},
   "outputs": [
    {
     "name": "stdout",
     "output_type": "stream",
     "text": [
      "3\n"
     ]
    }
   ],
   "source": [
    "a = [1,2,3,1,3,1,]\n",
    "print a.count(1)"
   ]
  },
  {
   "cell_type": "code",
   "execution_count": 36,
   "metadata": {},
   "outputs": [
    {
     "name": "stdout",
     "output_type": "stream",
     "text": [
      "['__add__', '__class__', '__contains__', '__delattr__', '__delitem__', '__delslice__', '__doc__', '__eq__', '__format__', '__ge__', '__getattribute__', '__getitem__', '__getslice__', '__gt__', '__hash__', '__iadd__', '__imul__', '__init__', '__iter__', '__le__', '__len__', '__lt__', '__mul__', '__ne__', '__new__', '__reduce__', '__reduce_ex__', '__repr__', '__reversed__', '__rmul__', '__setattr__', '__setitem__', '__setslice__', '__sizeof__', '__str__', '__subclasshook__', 'append', 'count', 'extend', 'index', 'insert', 'pop', 'remove', 'reverse', 'sort']\n"
     ]
    }
   ],
   "source": [
    "print dir(list)"
   ]
  },
  {
   "cell_type": "code",
   "execution_count": 38,
   "metadata": {},
   "outputs": [
    {
     "name": "stdout",
     "output_type": "stream",
     "text": [
      "[1, 2, 3]\n",
      "[1, 2, 3, 4, 5, 6]\n"
     ]
    }
   ],
   "source": [
    "a = [1,2,3]\n",
    "b = [4,5,6]\n",
    "print a\n",
    "a.extend(b)\n",
    "print a"
   ]
  },
  {
   "cell_type": "code",
   "execution_count": 40,
   "metadata": {},
   "outputs": [
    {
     "name": "stdout",
     "output_type": "stream",
     "text": [
      "2\n"
     ]
    }
   ],
   "source": [
    "a = [1,4,5,9]\n",
    "print a.index(5)"
   ]
  },
  {
   "cell_type": "code",
   "execution_count": 43,
   "metadata": {},
   "outputs": [
    {
     "name": "stdout",
     "output_type": "stream",
     "text": [
      "[1, 4, 10, 5, 6]\n"
     ]
    }
   ],
   "source": [
    "a = [1,4,5,6]\n",
    "a.insert(2,10)\n",
    "print a"
   ]
  },
  {
   "cell_type": "code",
   "execution_count": 45,
   "metadata": {},
   "outputs": [
    {
     "name": "stdout",
     "output_type": "stream",
     "text": [
      "[1, 4, 8, 2, 9]\n",
      "9\n",
      "[1, 4, 8, 2]\n",
      "8\n",
      "[1, 4, 2]\n"
     ]
    }
   ],
   "source": [
    "a = [1,4,8,2,9]\n",
    "print a\n",
    "print a.pop() #9\n",
    "print a\n",
    "print a.pop(2)# 8\n",
    "print a\n"
   ]
  },
  {
   "cell_type": "code",
   "execution_count": 47,
   "metadata": {},
   "outputs": [
    {
     "name": "stdout",
     "output_type": "stream",
     "text": [
      "[1, 6, 3, 5]\n",
      "[1, 6, 5]\n"
     ]
    },
    {
     "ename": "ValueError",
     "evalue": "list.remove(x): x not in list",
     "output_type": "error",
     "traceback": [
      "\u001b[1;31m---------------------------------------------------------------------------\u001b[0m",
      "\u001b[1;31mValueError\u001b[0m                                Traceback (most recent call last)",
      "\u001b[1;32m<ipython-input-47-26ca5537f48a>\u001b[0m in \u001b[0;36m<module>\u001b[1;34m()\u001b[0m\n\u001b[0;32m      3\u001b[0m \u001b[0ma\u001b[0m\u001b[1;33m.\u001b[0m\u001b[0mremove\u001b[0m\u001b[1;33m(\u001b[0m\u001b[1;36m3\u001b[0m\u001b[1;33m)\u001b[0m\u001b[1;33m\u001b[0m\u001b[0m\n\u001b[0;32m      4\u001b[0m \u001b[1;32mprint\u001b[0m \u001b[0ma\u001b[0m\u001b[1;33m\u001b[0m\u001b[0m\n\u001b[1;32m----> 5\u001b[1;33m \u001b[0ma\u001b[0m\u001b[1;33m.\u001b[0m\u001b[0mremove\u001b[0m\u001b[1;33m(\u001b[0m\u001b[1;36m100\u001b[0m\u001b[1;33m)\u001b[0m\u001b[1;33m\u001b[0m\u001b[0m\n\u001b[0m",
      "\u001b[1;31mValueError\u001b[0m: list.remove(x): x not in list"
     ]
    }
   ],
   "source": [
    "a = [1,6,3,5]\n",
    "print a\n",
    "a.remove(3)\n",
    "print a\n",
    "a.remove(100)"
   ]
  },
  {
   "cell_type": "code",
   "execution_count": 48,
   "metadata": {},
   "outputs": [
    {
     "name": "stdout",
     "output_type": "stream",
     "text": [
      "[3, 4, 1, 7]\n",
      "[7, 1, 4, 3]\n"
     ]
    }
   ],
   "source": [
    "a =[3,4,1,7]\n",
    "print a\n",
    "a.reverse()\n",
    "print a"
   ]
  },
  {
   "cell_type": "code",
   "execution_count": 49,
   "metadata": {},
   "outputs": [
    {
     "name": "stdout",
     "output_type": "stream",
     "text": [
      "[3, 4, 1, 7]\n",
      "[1, 3, 4, 7]\n"
     ]
    }
   ],
   "source": [
    "a =[3,4,1,7]\n",
    "print a\n",
    "a.sort()\n",
    "print a"
   ]
  },
  {
   "cell_type": "code",
   "execution_count": 50,
   "metadata": {},
   "outputs": [
    {
     "name": "stdout",
     "output_type": "stream",
     "text": [
      "['__add__', '__class__', '__contains__', '__delattr__', '__doc__', '__eq__', '__format__', '__ge__', '__getattribute__', '__getitem__', '__getnewargs__', '__getslice__', '__gt__', '__hash__', '__init__', '__iter__', '__le__', '__len__', '__lt__', '__mul__', '__ne__', '__new__', '__reduce__', '__reduce_ex__', '__repr__', '__rmul__', '__setattr__', '__sizeof__', '__str__', '__subclasshook__', 'count', 'index']\n"
     ]
    }
   ],
   "source": [
    "print dir(tuple)"
   ]
  }
 ],
 "metadata": {
  "kernelspec": {
   "display_name": "Python 2",
   "language": "python",
   "name": "python2"
  },
  "language_info": {
   "codemirror_mode": {
    "name": "ipython",
    "version": 2
   },
   "file_extension": ".py",
   "mimetype": "text/x-python",
   "name": "python",
   "nbconvert_exporter": "python",
   "pygments_lexer": "ipython2",
   "version": "2.7.16"
  }
 },
 "nbformat": 4,
 "nbformat_minor": 2
}
