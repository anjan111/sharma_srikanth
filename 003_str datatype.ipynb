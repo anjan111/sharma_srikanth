{
 "cells": [
  {
   "cell_type": "code",
   "execution_count": 2,
   "metadata": {},
   "outputs": [
    {
     "name": "stdout",
     "output_type": "stream",
     "text": [
      "<type 'str'>\n",
      "memory :  36018016\n",
      "data  :  python\n"
     ]
    }
   ],
   "source": [
    "# str datatype\n",
    "'''\n",
    "===>>> Group of characters inside ''/\"\"/\n",
    "'''\n",
    "# '' / \"\" /''' ''' /\"\"\"\"\"\"\n",
    "var ='python'\n",
    "print type(var)\n",
    "print \"memory : \",id(var)\n",
    "print \"data  : \",var"
   ]
  },
  {
   "cell_type": "code",
   "execution_count": 4,
   "metadata": {},
   "outputs": [
    {
     "name": "stdout",
     "output_type": "stream",
     "text": [
      "<type 'str'>\n",
      "memory :  36018016\n",
      "data  :  python\n"
     ]
    }
   ],
   "source": [
    "var =\"python\"\n",
    "print type(var)\n",
    "print \"memory : \",id(var)\n",
    "print \"data  : \",var"
   ]
  },
  {
   "cell_type": "code",
   "execution_count": 6,
   "metadata": {},
   "outputs": [
    {
     "name": "stdout",
     "output_type": "stream",
     "text": [
      "<type 'str'>\n",
      "memory :  36018016\n",
      "data  :  python\n"
     ]
    }
   ],
   "source": [
    "var ='''python'''\n",
    "print type(var)\n",
    "print \"memory : \",id(var)\n",
    "print \"data  : \",var"
   ]
  },
  {
   "cell_type": "code",
   "execution_count": 8,
   "metadata": {},
   "outputs": [
    {
     "name": "stdout",
     "output_type": "stream",
     "text": [
      "<type 'str'>\n",
      "memory :  36018016\n",
      "data  :  python\n"
     ]
    }
   ],
   "source": [
    "var =\"\"\"python\"\"\"\n",
    "print type(var)\n",
    "print \"memory : \",id(var)\n",
    "print \"data  : \",var"
   ]
  },
  {
   "cell_type": "code",
   "execution_count": 10,
   "metadata": {},
   "outputs": [
    {
     "name": "stdout",
     "output_type": "stream",
     "text": [
      "p\n",
      "y\n",
      "t\n",
      "h\n",
      "o\n",
      "n\n"
     ]
    }
   ],
   "source": [
    "#access the characters from str\n",
    "'''\n",
    "===>> indexing  --->> single character  [index]\n",
    "===>> slicing    --->> multiple characters --->> continusly [start : stop ]\n",
    "===>> dicing    --->> Multiple characters --->> periodical indexing  [ start : stop : step]\n",
    "\n",
    "'''\n",
    "# indexing \n",
    "# positive  index  --->> 0 to len-1\n",
    "var = \"python\"\n",
    "print var[0] # p\n",
    "print var[1] # y\n",
    "print var[2] # t\n",
    "print var[3] # h\n",
    "print var[4] # o\n",
    "print var[5] # n"
   ]
  },
  {
   "cell_type": "code",
   "execution_count": 12,
   "metadata": {},
   "outputs": [
    {
     "name": "stdout",
     "output_type": "stream",
     "text": [
      "n\n",
      "o\n",
      "h\n",
      "t\n",
      "y\n",
      "p\n"
     ]
    }
   ],
   "source": [
    "# negative indexing  --->>  -1  to -len\n",
    "var = \"python\"\n",
    "print var[-1]#n\n",
    "print var[-2]#o\n",
    "print var[-3]#h\n",
    "print var[-4]#t\n",
    "print var[-5]#y\n",
    "print var[-6]#p"
   ]
  },
  {
   "cell_type": "code",
   "execution_count": 17,
   "metadata": {},
   "outputs": [
    {
     "name": "stdout",
     "output_type": "stream",
     "text": [
      "rog\n",
      "python prog\n",
      "python prog\n",
      "hon program\n",
      "hon program\n"
     ]
    }
   ],
   "source": [
    "# str slicing  [start : stop]\n",
    "var = \"python program\"\n",
    "print var[8:11]\n",
    "print var[0:11]#\"python prog\"\n",
    "print var[:11]#\"python prog\"\n",
    "\n",
    "# start ---->>> 0\n",
    "print var[3:]#\"hon program\"\n",
    "print var[3:14]#\"hon program\"\n",
    "# stop ---->>> len "
   ]
  },
  {
   "cell_type": "code",
   "execution_count": 23,
   "metadata": {},
   "outputs": [
    {
     "name": "stdout",
     "output_type": "stream",
     "text": [
      "18\n",
      "tnrrm\n",
      "thon programmi\n",
      "thon programmi\n",
      "tnrrmg\n",
      "ph oai\n"
     ]
    }
   ],
   "source": [
    "# str dicing [ start : stop : step]\n",
    "var = \"python programming\"\n",
    "print len(var)\n",
    "print var[2:16:3]#2,5,8,11,14#  tnrrm\n",
    "print var[2:16:1]#\"thon programmi\"\n",
    "print var[2:16:]\n",
    "print var[2::3]#\"2,5,8,11,14,17\" # tnrrmg\n",
    "print var[:16:3]#0,3,6,9,12,15 # ph oai"
   ]
  },
  {
   "cell_type": "code",
   "execution_count": 26,
   "metadata": {},
   "outputs": [
    {
     "name": "stdout",
     "output_type": "stream",
     "text": [
      "t\n"
     ]
    },
    {
     "ename": "TypeError",
     "evalue": "'str' object does not support item assignment",
     "output_type": "error",
     "traceback": [
      "\u001b[1;31m---------------------------------------------------------------------------\u001b[0m",
      "\u001b[1;31mTypeError\u001b[0m                                 Traceback (most recent call last)",
      "\u001b[1;32m<ipython-input-26-171ab13ab549>\u001b[0m in \u001b[0;36m<module>\u001b[1;34m()\u001b[0m\n\u001b[0;32m      2\u001b[0m \u001b[0mvar\u001b[0m \u001b[1;33m=\u001b[0m \u001b[1;34m\"python\"\u001b[0m\u001b[1;33m\u001b[0m\u001b[0m\n\u001b[0;32m      3\u001b[0m \u001b[1;32mprint\u001b[0m \u001b[0mvar\u001b[0m\u001b[1;33m[\u001b[0m\u001b[1;36m2\u001b[0m\u001b[1;33m]\u001b[0m\u001b[1;33m\u001b[0m\u001b[0m\n\u001b[1;32m----> 4\u001b[1;33m \u001b[0mvar\u001b[0m\u001b[1;33m[\u001b[0m\u001b[1;36m2\u001b[0m\u001b[1;33m]\u001b[0m\u001b[1;33m=\u001b[0m\u001b[1;34m'y'\u001b[0m\u001b[1;33m\u001b[0m\u001b[0m\n\u001b[0m",
      "\u001b[1;31mTypeError\u001b[0m: 'str' object does not support item assignment"
     ]
    }
   ],
   "source": [
    "# str is immutable datatype, can't modify existing characters\n",
    "var = \"python\"\n",
    "print var[2]\n",
    "var[2]='y'"
   ]
  },
  {
   "cell_type": "code",
   "execution_count": 28,
   "metadata": {},
   "outputs": [
    {
     "name": "stdout",
     "output_type": "stream",
     "text": [
      "123\n",
      "12\n"
     ]
    }
   ],
   "source": [
    "var =123\n",
    "print var\n",
    "var =12\n",
    "print var"
   ]
  },
  {
   "cell_type": "code",
   "execution_count": 30,
   "metadata": {},
   "outputs": [
    {
     "name": "stdout",
     "output_type": "stream",
     "text": [
      "soc\n",
      "hel\n"
     ]
    }
   ],
   "source": [
    "var =\"soc\"\n",
    "print var\n",
    "var =\"hel\"\n",
    "print var"
   ]
  },
  {
   "cell_type": "code",
   "execution_count": 34,
   "metadata": {},
   "outputs": [
    {
     "name": "stdout",
     "output_type": "stream",
     "text": [
      "6\n",
      "y\n",
      "h\n"
     ]
    }
   ],
   "source": [
    "var =\"python\"\n",
    "print len(var)\n",
    "print max(var)\n",
    "print min(var)"
   ]
  },
  {
   "cell_type": "code",
   "execution_count": 36,
   "metadata": {},
   "outputs": [
    {
     "name": "stdout",
     "output_type": "stream",
     "text": [
      "soc soc soc \n"
     ]
    }
   ],
   "source": [
    "var =\"soc \"\n",
    "print var  *3\n"
   ]
  },
  {
   "cell_type": "code",
   "execution_count": 37,
   "metadata": {},
   "outputs": [
    {
     "name": "stdout",
     "output_type": "stream",
     "text": [
      "soc softech\n"
     ]
    }
   ],
   "source": [
    "a = \"soc\"\n",
    "b = \" softech\"\n",
    "print a+b"
   ]
  },
  {
   "cell_type": "code",
   "execution_count": 1,
   "metadata": {},
   "outputs": [
    {
     "name": "stdout",
     "output_type": "stream",
     "text": [
      "['__add__', '__class__', '__contains__', '__delattr__', '__doc__', '__eq__', '__format__', '__ge__', '__getattribute__', '__getitem__', '__getnewargs__', '__getslice__', '__gt__', '__hash__', '__init__', '__le__', '__len__', '__lt__', '__mod__', '__mul__', '__ne__', '__new__', '__reduce__', '__reduce_ex__', '__repr__', '__rmod__', '__rmul__', '__setattr__', '__sizeof__', '__str__', '__subclasshook__', '_formatter_field_name_split', '_formatter_parser', 'capitalize', 'center', 'count', 'decode', 'encode', 'endswith', 'expandtabs', 'find', 'format', 'index', 'isalnum', 'isalpha', 'isdigit', 'islower', 'isspace', 'istitle', 'isupper', 'join', 'ljust', 'lower', 'lstrip', 'partition', 'replace', 'rfind', 'rindex', 'rjust', 'rpartition', 'rsplit', 'rstrip', 'split', 'splitlines', 'startswith', 'strip', 'swapcase', 'title', 'translate', 'upper', 'zfill']\n"
     ]
    }
   ],
   "source": [
    "print dir(str)"
   ]
  },
  {
   "cell_type": "code",
   "execution_count": 3,
   "metadata": {},
   "outputs": [
    {
     "name": "stdout",
     "output_type": "stream",
     "text": [
      "soc softech\n",
      "soc softech\n"
     ]
    }
   ],
   "source": [
    "# function :-- set of instructions to do any one specific task\n",
    "# functions are defined inside of class i.e methods \n",
    "# str --->> predefined class\n",
    "'''\n",
    "1. special methods ----even if i not call any methods , which can executed automatically\n",
    "\n",
    "    __methodname__\n",
    "\n",
    "2. manipulation methods--->> we have to call then only which can executed \n",
    "'''\n",
    "a = \"soc \"\n",
    "b = \"softech\"\n",
    "print a+b\n",
    "print a.__add__(b)"
   ]
  },
  {
   "cell_type": "code",
   "execution_count": 5,
   "metadata": {},
   "outputs": [
    {
     "name": "stdout",
     "output_type": "stream",
     "text": [
      "Help on wrapper_descriptor:\n",
      "\n",
      "__add__(...)\n",
      "    x.__add__(y) <==> x+y\n",
      "\n"
     ]
    }
   ],
   "source": [
    "help(str.__add__)"
   ]
  },
  {
   "cell_type": "code",
   "execution_count": 10,
   "metadata": {},
   "outputs": [
    {
     "name": "stdout",
     "output_type": "stream",
     "text": [
      "True\n",
      "True\n",
      "Help on wrapper_descriptor:\n",
      "\n",
      "__contains__(...)\n",
      "    x.__contains__(y) <==> y in x\n",
      "\n"
     ]
    }
   ],
   "source": [
    "a = \"softech\"\n",
    "b= 'ft'\n",
    "print b in a\n",
    "print a.__contains__(b)\n",
    "help(str.__contains__)"
   ]
  },
  {
   "cell_type": "code",
   "execution_count": 13,
   "metadata": {},
   "outputs": [
    {
     "name": "stdout",
     "output_type": "stream",
     "text": [
      "False\n",
      "False\n",
      "Help on wrapper_descriptor:\n",
      "\n",
      "__lt__(...)\n",
      "    x.__lt__(y) <==> x<y\n",
      "\n"
     ]
    }
   ],
   "source": [
    "a = \"soc\"\n",
    "b = \"soaf\"\n",
    "print a < b\n",
    "print a.__lt__(b)\n",
    "help(str.__lt__)"
   ]
  },
  {
   "cell_type": "code",
   "execution_count": 15,
   "metadata": {},
   "outputs": [
    {
     "name": "stdout",
     "output_type": "stream",
     "text": [
      "True\n",
      "True\n",
      "Help on wrapper_descriptor:\n",
      "\n",
      "__gt__(...)\n",
      "    x.__gt__(y) <==> x>y\n",
      "\n"
     ]
    }
   ],
   "source": [
    "a = \"soc\"\n",
    "b = \"soaf\"\n",
    "print a > b\n",
    "print a.__gt__(b)\n",
    "help(str.__gt__)"
   ]
  },
  {
   "cell_type": "code",
   "execution_count": 17,
   "metadata": {},
   "outputs": [
    {
     "name": "stdout",
     "output_type": "stream",
     "text": [
      "False\n",
      "False\n",
      "Help on wrapper_descriptor:\n",
      "\n",
      "__eq__(...)\n",
      "    x.__eq__(y) <==> x==y\n",
      "\n"
     ]
    }
   ],
   "source": [
    "a = \"soc\"\n",
    "b = \"soaf\"\n",
    "print a == b\n",
    "print a.__eq__(b)\n",
    "help(str.__eq__)"
   ]
  },
  {
   "cell_type": "code",
   "execution_count": 22,
   "metadata": {},
   "outputs": [
    {
     "name": "stdout",
     "output_type": "stream",
     "text": [
      "Anjan anjan\n",
      "Help on method_descriptor:\n",
      "\n",
      "capitalize(...)\n",
      "    S.capitalize() -> string\n",
      "    \n",
      "    Return a copy of the string S with only its first character\n",
      "    capitalized.\n",
      "\n"
     ]
    }
   ],
   "source": [
    "# manipulation methods \n",
    "'''\n",
    "==>> to manipulate the strs\n",
    "'''\n",
    "a= \"aNJan ANjan\"\n",
    "print a.capitalize()\n",
    "help(str.capitalize)"
   ]
  },
  {
   "cell_type": "code",
   "execution_count": 25,
   "metadata": {},
   "outputs": [
    {
     "name": "stdout",
     "output_type": "stream",
     "text": [
      "Anjan Anjan\n",
      "Help on method_descriptor:\n",
      "\n",
      "title(...)\n",
      "    S.title() -> string\n",
      "    \n",
      "    Return a titlecased version of S, i.e. words start with uppercase\n",
      "    characters, all remaining cased characters have lowercase.\n",
      "\n"
     ]
    }
   ],
   "source": [
    "a= \"aNJan ANjan\"\n",
    "print a.title()\n",
    "help(str.title)"
   ]
  },
  {
   "cell_type": "code",
   "execution_count": 29,
   "metadata": {},
   "outputs": [
    {
     "name": "stdout",
     "output_type": "stream",
     "text": [
      "anjan anjan\n",
      "Help on method_descriptor:\n",
      "\n",
      "lower(...)\n",
      "    S.lower() -> string\n",
      "    \n",
      "    Return a copy of the string S converted to lowercase.\n",
      "\n"
     ]
    }
   ],
   "source": [
    "a= \"aNJan ANjan\"\n",
    "print a.lower()\n",
    "help(str.lower)"
   ]
  },
  {
   "cell_type": "code",
   "execution_count": 31,
   "metadata": {},
   "outputs": [
    {
     "name": "stdout",
     "output_type": "stream",
     "text": [
      "ANJAN ANJAN\n",
      "Help on method_descriptor:\n",
      "\n",
      "upper(...)\n",
      "    S.upper() -> string\n",
      "    \n",
      "    Return a copy of the string S converted to uppercase.\n",
      "\n"
     ]
    }
   ],
   "source": [
    "a= \"aNJan ANjan\"\n",
    "print a.upper()\n",
    "help(str.upper)"
   ]
  },
  {
   "cell_type": "code",
   "execution_count": 33,
   "metadata": {},
   "outputs": [
    {
     "name": "stdout",
     "output_type": "stream",
     "text": [
      "00soc\n"
     ]
    }
   ],
   "source": [
    "# zfill --->> Zeros filling\n",
    "# str --->> 5 --->>> 10\n",
    "a = \"soc\"\n",
    "print a.zfill(5)\n"
   ]
  },
  {
   "cell_type": "code",
   "execution_count": 40,
   "metadata": {},
   "outputs": [
    {
     "name": "stdout",
     "output_type": "stream",
     "text": [
      "222soc2222\n"
     ]
    }
   ],
   "source": [
    "# center --->>> '2'--->> both sides\n",
    "a = \"soc\"\n",
    "print a.center(10,'2')"
   ]
  },
  {
   "cell_type": "code",
   "execution_count": 43,
   "metadata": {},
   "outputs": [
    {
     "name": "stdout",
     "output_type": "stream",
     "text": [
      "o\n"
     ]
    },
    {
     "ename": "TypeError",
     "evalue": "'str' object does not support item assignment",
     "output_type": "error",
     "traceback": [
      "\u001b[1;31m---------------------------------------------------------------------------\u001b[0m",
      "\u001b[1;31mTypeError\u001b[0m                                 Traceback (most recent call last)",
      "\u001b[1;32m<ipython-input-43-a78d62ff61a5>\u001b[0m in \u001b[0;36m<module>\u001b[1;34m()\u001b[0m\n\u001b[0;32m      2\u001b[0m \u001b[0ma\u001b[0m \u001b[1;33m=\u001b[0m \u001b[1;34m\"soc\"\u001b[0m\u001b[1;33m\u001b[0m\u001b[0m\n\u001b[0;32m      3\u001b[0m \u001b[1;32mprint\u001b[0m \u001b[0ma\u001b[0m\u001b[1;33m[\u001b[0m\u001b[1;36m1\u001b[0m\u001b[1;33m]\u001b[0m\u001b[1;33m\u001b[0m\u001b[0m\n\u001b[1;32m----> 4\u001b[1;33m \u001b[0ma\u001b[0m\u001b[1;33m[\u001b[0m\u001b[1;36m1\u001b[0m\u001b[1;33m]\u001b[0m \u001b[1;33m=\u001b[0m\u001b[1;34m'O'\u001b[0m\u001b[1;33m\u001b[0m\u001b[0m\n\u001b[0m",
      "\u001b[1;31mTypeError\u001b[0m: 'str' object does not support item assignment"
     ]
    }
   ],
   "source": [
    "# replace \n",
    "a = \"soc\"\n",
    "print a[1]\n",
    "a[1] ='O'"
   ]
  },
  {
   "cell_type": "code",
   "execution_count": 49,
   "metadata": {},
   "outputs": [
    {
     "name": "stdout",
     "output_type": "stream",
     "text": [
      "sOc sOftech\n"
     ]
    }
   ],
   "source": [
    "# replace \n",
    "a = \"soc softech\"\n",
    "a = a.replace('o','O')\n",
    "print a"
   ]
  },
  {
   "cell_type": "code",
   "execution_count": 51,
   "metadata": {},
   "outputs": [
    {
     "name": "stdout",
     "output_type": "stream",
     "text": [
      "2\n"
     ]
    }
   ],
   "source": [
    "a= \"socsoftech\"\n",
    "print a.count('s')"
   ]
  },
  {
   "cell_type": "code",
   "execution_count": 53,
   "metadata": {},
   "outputs": [
    {
     "name": "stdout",
     "output_type": "stream",
     "text": [
      "5\n"
     ]
    }
   ],
   "source": [
    "a= \"socsoftech\"\n",
    "print a.index('f')"
   ]
  },
  {
   "cell_type": "code",
   "execution_count": 55,
   "metadata": {},
   "outputs": [
    {
     "name": "stdout",
     "output_type": "stream",
     "text": [
      "5\n"
     ]
    }
   ],
   "source": [
    "b = a.index('f')\n",
    "print b"
   ]
  },
  {
   "cell_type": "code",
   "execution_count": 57,
   "metadata": {},
   "outputs": [
    {
     "name": "stdout",
     "output_type": "stream",
     "text": [
      "0\n"
     ]
    }
   ],
   "source": [
    "a= \"socsoftech\"\n",
    "print a.index('s')"
   ]
  },
  {
   "cell_type": "code",
   "execution_count": 61,
   "metadata": {},
   "outputs": [
    {
     "name": "stdout",
     "output_type": "stream",
     "text": [
      "3\n"
     ]
    }
   ],
   "source": [
    "a= \"socsoftech\"\n",
    "print a.index('s',2,6)"
   ]
  },
  {
   "cell_type": "code",
   "execution_count": 65,
   "metadata": {},
   "outputs": [
    {
     "name": "stdout",
     "output_type": "stream",
     "text": [
      "3\n"
     ]
    }
   ],
   "source": [
    "c = 0 \n",
    "l =0\n",
    "for i in \"socsoftech\":\n",
    "    if(i == 's'):\n",
    "    \n",
    "        if(l==1):\n",
    "            print c\n",
    "        l = l+1\n",
    "    \n",
    "    c = c+1\n",
    "        "
   ]
  },
  {
   "cell_type": "code",
   "execution_count": 67,
   "metadata": {},
   "outputs": [
    {
     "name": "stdout",
     "output_type": "stream",
     "text": [
      "True\n"
     ]
    }
   ],
   "source": [
    "# boolean methods \n",
    "a = \"123\"\n",
    "print a.isdigit()"
   ]
  },
  {
   "cell_type": "code",
   "execution_count": 69,
   "metadata": {},
   "outputs": [
    {
     "name": "stdout",
     "output_type": "stream",
     "text": [
      "True\n"
     ]
    }
   ],
   "source": [
    "a = \"soc\"\n",
    "print a.islower()"
   ]
  },
  {
   "cell_type": "code",
   "execution_count": 72,
   "metadata": {},
   "outputs": [
    {
     "name": "stdout",
     "output_type": "stream",
     "text": [
      "True\n"
     ]
    }
   ],
   "source": [
    "a = \"SOC\"\n",
    "print a.isupper()"
   ]
  },
  {
   "cell_type": "code",
   "execution_count": 74,
   "metadata": {},
   "outputs": [
    {
     "name": "stdout",
     "output_type": "stream",
     "text": [
      "True\n"
     ]
    }
   ],
   "source": [
    "a =\"soc123\"\n",
    "print a.isalnum()"
   ]
  },
  {
   "cell_type": "code",
   "execution_count": 76,
   "metadata": {},
   "outputs": [
    {
     "name": "stdout",
     "output_type": "stream",
     "text": [
      "True\n"
     ]
    }
   ],
   "source": [
    "a = \"asDJSD\"\n",
    "print a.isalpha()"
   ]
  },
  {
   "cell_type": "code",
   "execution_count": 78,
   "metadata": {},
   "outputs": [
    {
     "name": "stdout",
     "output_type": "stream",
     "text": [
      "['soc', 'softech', 'anjan']\n"
     ]
    }
   ],
   "source": [
    "a= \"soc softech anjan\"\n",
    "print a.split()"
   ]
  },
  {
   "cell_type": "code",
   "execution_count": 79,
   "metadata": {},
   "outputs": [
    {
     "name": "stdout",
     "output_type": "stream",
     "text": [
      "soc softech anjan\n"
     ]
    }
   ],
   "source": [
    "a = ['soc', 'softech', 'anjan']\n",
    "print ' '.join(a)"
   ]
  }
 ],
 "metadata": {
  "kernelspec": {
   "display_name": "Python 2",
   "language": "python",
   "name": "python2"
  },
  "language_info": {
   "codemirror_mode": {
    "name": "ipython",
    "version": 2
   },
   "file_extension": ".py",
   "mimetype": "text/x-python",
   "name": "python",
   "nbconvert_exporter": "python",
   "pygments_lexer": "ipython2",
   "version": "2.7.16"
  }
 },
 "nbformat": 4,
 "nbformat_minor": 2
}
