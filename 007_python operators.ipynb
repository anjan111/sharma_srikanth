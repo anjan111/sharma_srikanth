{
 "cells": [
  {
   "cell_type": "markdown",
   "metadata": {},
   "source": [
    "#### Operators \n",
    "\n",
    "===>>> The symbols are used for to do some operations on operands \n",
    "\n",
    "#### Operands \n",
    "\n",
    "===>>>  The data with in the operations \n",
    "\n",
    "#### operations \n",
    "\n",
    "===>>> The process of solving the equations \n",
    "\n",
    "#### Operators are  classified based on  2 ways \n",
    "\n",
    "1. Based on operands \n",
    "\n",
    "----->>> Based on the no of operands with in the operations\n",
    "\n",
    "        1. unary operator\n",
    "        \n",
    "            -->> A operator which is operating on single operands\n",
    "            \n",
    "        2. Binary operator\n",
    "        \n",
    "            -->> A operator which is operating on single operands\n",
    "\n",
    "2. Based on Operations \n",
    "\n",
    "==>> arithmetic operators\n",
    "\n",
    "==>> relational operators\n",
    "\n",
    "==>> Logical operators\n",
    "\n",
    "==>> Assignment operators\n",
    "\n",
    "==>> Special Operators\n",
    "\n",
    "==>> bitwise operators"
   ]
  },
  {
   "cell_type": "code",
   "execution_count": null,
   "metadata": {},
   "outputs": [],
   "source": [
    "# unary operatos  --->> single operator vs single operand\n",
    "print  +  123 # unary plus\n",
    "print  - 50 # unary minus\n",
    "print  not True # unary logical not \n",
    "print ~ 34 #  -35"
   ]
  },
  {
   "cell_type": "code",
   "execution_count": null,
   "metadata": {},
   "outputs": [],
   "source": [
    "# binary operators  --->> single operatorvs two operands \n",
    "print 10 + 20 # arithmetic binary plus\n",
    "print  10 < 40# relational lessthan opeprators\n"
   ]
  },
  {
   "cell_type": "code",
   "execution_count": null,
   "metadata": {},
   "outputs": [],
   "source": [
    "# Arithmetic operator\n",
    "'''\n",
    "addition              +\n",
    "subtraction           -\n",
    "multiplication        *\n",
    "division              /\n",
    "modulus               %\n",
    "'''\n",
    "#wap applay all arithmetic operators \n",
    "a  = input(\"enter a : \")\n",
    "b  = input(\"enter b : \")\n",
    "print \"add : \",a+b\n",
    "print \"sub : \",a-b\n",
    "print \"mul : \",a*b\n",
    "print \"div : \",a/b\n",
    "print \"rem : \",a%b"
   ]
  },
  {
   "cell_type": "code",
   "execution_count": null,
   "metadata": {},
   "outputs": [],
   "source": [
    "#wap applay all arithmetic operators \n",
    "a  = input(\"enter a : \")\n",
    "b  = input(\"enter b : \")\n",
    "print \"add : \",a+b\n",
    "print \"sub : \",a-b\n",
    "print \"mul : \",a*b\n",
    "print \"div : \",a/b\n",
    "print \"rem : \",a%b"
   ]
  },
  {
   "cell_type": "code",
   "execution_count": null,
   "metadata": {},
   "outputs": [],
   "source": [
    "# 2 more operators \n",
    "'''\n",
    "floor division    //  \n",
    "exponant          **\n",
    "'''\n",
    "a = 45\n",
    "b =2\n",
    "print a//b\n",
    "print a/b\n",
    "a = 45.0\n",
    "b =2.0\n",
    "print a//b\n",
    "print a/b\n"
   ]
  },
  {
   "cell_type": "code",
   "execution_count": null,
   "metadata": {},
   "outputs": [],
   "source": [
    "a = 12\n",
    "b =2\n",
    "print a *b\n",
    "print a ** b\n",
    "print 10 ** 3"
   ]
  },
  {
   "cell_type": "code",
   "execution_count": null,
   "metadata": {},
   "outputs": [],
   "source": [
    "# wap find the intrest for 2% per 100 and my priciple 100000 for 2 years\n",
    "t = 2*12\n",
    "p = 100000\n",
    "r = 2\n",
    "SI = ( p * t*r)/100\n",
    "print SI"
   ]
  },
  {
   "cell_type": "code",
   "execution_count": null,
   "metadata": {},
   "outputs": [],
   "source": [
    "# wap find the area of triangle and perimter\n",
    "# wap find the area and peri of square\n",
    "# wap find the volume and area of cube "
   ]
  },
  {
   "cell_type": "code",
   "execution_count": null,
   "metadata": {},
   "outputs": [],
   "source": [
    "# relational operators\n",
    "'''\n",
    "--->> to compare the operands -> comparision\n",
    "--->> we can use like a condition\n",
    "--->> The result (  True / False) --->> boolean operator\n",
    "\n",
    "1. lessthan            <\n",
    "2. greaterthan         >\n",
    "3. equal too           ==\n",
    "4. not equal too       !=\n",
    "5. lessthan or equl to  <=\n",
    "6. greaterthan or equal >=\n",
    "\n",
    "'''\n",
    "# wap for relational operator\n",
    "a = 10\n",
    "b = 20\n",
    "print a,\" < \", b,\" --> \", a < b\n",
    "print a,\" > \", b,\" --> \", a > b\n",
    "print a,\" <= \", b,\" --> \", a <= b\n",
    "print a,\" >= \", b,\" --> \", a >= b\n",
    "print a,\" == \", b,\" --> \", a == b\n",
    "print a,\" != \", b,\" --> \", a != b"
   ]
  },
  {
   "cell_type": "code",
   "execution_count": null,
   "metadata": {},
   "outputs": [],
   "source": [
    "# wap for relational operator\n",
    "a = 10\n",
    "b = 10\n",
    "print a,\" < \", b,\" --> \", a < b\n",
    "print a,\" > \", b,\" --> \", a > b\n",
    "print a,\" <= \", b,\" --> \", a <= b\n",
    "print a,\" >= \", b,\" --> \", a >= b\n",
    "print a,\" == \", b,\" --> \", a == b\n",
    "print a,\" != \", b,\" --> \", a != b"
   ]
  },
  {
   "cell_type": "code",
   "execution_count": null,
   "metadata": {},
   "outputs": [],
   "source": [
    "# wap for relational operator\n",
    "a = 30\n",
    "b = 20\n",
    "print a,\" < \", b,\" --> \", a < b\n",
    "print a,\" > \", b,\" --> \", a > b\n",
    "print a,\" <= \", b,\" --> \", a <= b\n",
    "print a,\" >= \", b,\" --> \", a >= b\n",
    "print a,\" == \", b,\" --> \", a == b\n",
    "print a,\" != \", b,\" --> \", a != b"
   ]
  },
  {
   "cell_type": "code",
   "execution_count": null,
   "metadata": {},
   "outputs": [],
   "source": [
    "# wap find the given number is even or not\n",
    "a = input(\"enter a number : \")\n",
    "rem = a % 2\n",
    "print a,\" is even : \", rem == 0"
   ]
  },
  {
   "cell_type": "code",
   "execution_count": null,
   "metadata": {},
   "outputs": [],
   "source": [
    "#Assignment operators\n",
    "'''\n",
    "---> to assign the data from right side to left side variable\n",
    "'''\n",
    "var = 10 # constant to variable\n",
    "b = var # variable to vriable\n",
    "c = b * var +12 -2 # expression to variable\n",
    "print var\n",
    "print b\n",
    "print c"
   ]
  },
  {
   "cell_type": "code",
   "execution_count": null,
   "metadata": {},
   "outputs": [],
   "source": [
    "# compound assignment oper / do the operation then update\n",
    "a = 10\n",
    "b = 20\n",
    "print a\n",
    "print b\n",
    "a = a+b # addition then update\n",
    "print a\n",
    "print b"
   ]
  },
  {
   "cell_type": "code",
   "execution_count": null,
   "metadata": {},
   "outputs": [],
   "source": [
    "a = 10\n",
    "b = 20\n",
    "print a\n",
    "print b\n",
    "a += b#  a =  a+b # addition then update\n",
    "print a\n",
    "print b"
   ]
  },
  {
   "cell_type": "code",
   "execution_count": null,
   "metadata": {},
   "outputs": [],
   "source": [
    "a = 10\n",
    "b = 20\n",
    "print a\n",
    "print b\n",
    "a -= b #  a = a-b # addition then update\n",
    "print a\n",
    "print b"
   ]
  },
  {
   "cell_type": "code",
   "execution_count": null,
   "metadata": {},
   "outputs": [],
   "source": [
    "a = 10\n",
    "b = 20\n",
    "print a\n",
    "print b\n",
    "a *= b #  a = *-b # multiplication then update\n",
    "print a\n",
    "print b"
   ]
  },
  {
   "cell_type": "code",
   "execution_count": null,
   "metadata": {},
   "outputs": [],
   "source": [
    "a = 10\n",
    "b = 20\n",
    "print a\n",
    "print b\n",
    "a /= b #  a = a/b # division then update\n",
    "print a\n",
    "print b"
   ]
  },
  {
   "cell_type": "code",
   "execution_count": null,
   "metadata": {},
   "outputs": [],
   "source": [
    "#logical operator\n",
    "'''\n",
    "--->>>  logical or    --->>>   or\n",
    "\n",
    "op1   or   op2 ---->>> op1/ op2\n",
    "\n",
    "res --->> op1  ,  when op1 is True case\n",
    "\n",
    "res ---->> op2 , when op1 is False Case\n",
    "\n",
    "'''\n",
    "'''\n",
    "int  --->> 0 --> False  ,   +ve/-ve ---> True case\n",
    "float -->> 0.0-> False  . +ve/-ve ---->> True case\n",
    "bool  -->> False-> False ,  True ----> True \n",
    "complex -> 0+0j --> False, \n",
    "None ---->.. False\n",
    "str, list, tuple, set, dict --->> len is 0 --> False, other wise --> True\n",
    "'''\n",
    "print  45 or [23,56]\n",
    "print  0.001 or 10.101"
   ]
  },
  {
   "cell_type": "code",
   "execution_count": null,
   "metadata": {},
   "outputs": [],
   "source": [
    "print  0+0j or [23,56]\n",
    "print  [] or 10.101"
   ]
  },
  {
   "cell_type": "code",
   "execution_count": null,
   "metadata": {},
   "outputs": [],
   "source": [
    "'''\n",
    "--->>>  logical and    --->>>   and\n",
    "\n",
    "op1   or   op2 ---->>> op1/ op2\n",
    "\n",
    "res --->> op1  ,  when op1 is False case\n",
    "\n",
    "res ---->> op2 , when op1 is True Case\n",
    "\n",
    "'''\n",
    "print 123 and 90\n",
    "print 45  and 0\n",
    "print 0 and 45\n",
    "print 0.00 and 56"
   ]
  },
  {
   "cell_type": "code",
   "execution_count": null,
   "metadata": {},
   "outputs": [],
   "source": [
    "# logical not  ---->> not\n",
    "'''\n",
    "not  op --->> True / False\n",
    "op ---> True case ---->>> False\n",
    "op ---> False case --->> True \n",
    "'''\n",
    "print not [] # True\n",
    "print not 90 # False"
   ]
  },
  {
   "cell_type": "code",
   "execution_count": null,
   "metadata": {},
   "outputs": [],
   "source": [
    "# wap find the given number is divisble by both 3 and 5\n",
    "num = input(\"enter num :\")\n",
    "print num,\" is divisble by both 3 and 5 : \", (num%3 ==0 ) and(num%5==0)"
   ]
  },
  {
   "cell_type": "code",
   "execution_count": null,
   "metadata": {},
   "outputs": [],
   "source": [
    "# special operators\n",
    "'''\n",
    "1. membership operator\n",
    "\n",
    "===>> to check the availability  one element in a seq\n",
    "\n",
    "        1. in  --->> True --->> when it is avaiable\n",
    "                -->> False -->> when it is not avaialable\n",
    "                \n",
    "        2. not in \n",
    "          --->> True --->> when it is not avaiable\n",
    "          -->> False -->> when it is avaialable\n",
    "\n",
    "2. Identity operator\n",
    "\n",
    "===>> to check the  memory loc \n",
    "\n",
    "        1. is \n",
    "           \n",
    "            True --->> both memory loc is same\n",
    "            False--->> both memory loc is different \n",
    "        \n",
    "        2. is not \n",
    "            True --->> both memory loc is different\n",
    "            False--->> both memory loc is  same        \n",
    "'''\n",
    "# membership operator\n",
    "a = 10\n",
    "b = [11,89,34]\n",
    "c = 89\n",
    "print a,\" in \",b ,\" ==>> \",a in b\n",
    "print a,\"not in \",b,\"==>>\",a not in b"
   ]
  },
  {
   "cell_type": "code",
   "execution_count": null,
   "metadata": {},
   "outputs": [],
   "source": [
    "a = 10\n",
    "b = [11,89,34]\n",
    "c = 89\n",
    "print c,\" in \",b ,\" ==>> \",c in b\n",
    "print c,\"not in \",b,\"==>>\",c not in b"
   ]
  },
  {
   "cell_type": "code",
   "execution_count": null,
   "metadata": {},
   "outputs": [],
   "source": [
    "a = [1,2,3]\n",
    "b = [1,2,3]\n",
    "print id(a)\n",
    "print id(b)\n",
    "print a is b\n",
    "print a is not b\n",
    "#print a == b"
   ]
  },
  {
   "cell_type": "code",
   "execution_count": null,
   "metadata": {},
   "outputs": [],
   "source": [
    "a = [1,2,3]\n",
    "b =a\n",
    "print id(a)\n",
    "print id(b)\n",
    "print a is b\n",
    "print a is not b\n",
    "#print a == b"
   ]
  },
  {
   "cell_type": "code",
   "execution_count": null,
   "metadata": {},
   "outputs": [],
   "source": [
    "# bitwise operator\n",
    "'''\n",
    "==>> binary data of given inputs \n",
    "\n",
    "1. bitwise or      |\n",
    "2. bitwise and \n",
    "3. bitwise xor\n",
    "4. bitwise leftshift\n",
    "5. bitwise rightshift\n",
    "6. bitwise not \n",
    "'''\n",
    "# convertion from decimal to binary\n",
    "# binary to decimal\n",
    "'''\n",
    "--->> Procedure of bitwise operators\n",
    "\n",
    "1. ip->>> decimal ---->>> binary data\n",
    "2. do the operation -->> result r=binary\n",
    "3. binary res ---->>>  decimal\n",
    "'''\n",
    "print  6 | 10\n",
    "'''\n",
    "6 --->> 0  1  1  0\n",
    "10 -->> 1  0  1  0\n",
    "--------------------\n",
    "        1  1   1  0 ====>> 14\n",
    "        \n",
    "'''\n",
    "print"
   ]
  },
  {
   "cell_type": "code",
   "execution_count": null,
   "metadata": {},
   "outputs": [],
   "source": [
    "# bitwise and &\n",
    "'''\n",
    " 0   0  ---->> 0\n",
    " 1   0  ---->> 0\n",
    " 0   1   --->> 0\n",
    " 1   1   --->> 1\n",
    "'''\n",
    "print  6 & 10\n",
    "'''\n",
    "6 --->> 0  1   1   0\n",
    "10 -->  1  0   1   0\n",
    "--------------------\n",
    "       0   0   1   0 ====>> 2\n",
    "'''\n",
    "print "
   ]
  },
  {
   "cell_type": "code",
   "execution_count": null,
   "metadata": {},
   "outputs": [],
   "source": [
    "# bitwise Xor    ^\n",
    "'''\n",
    " 0   0  ---->> 0\n",
    " 1   0  ---->> 1\n",
    " 0   1   --->> 1\n",
    " 1   1   --->> 0\n",
    "'''\n",
    "print  6 ^ 10\n",
    "'''\n",
    "6 --->> 0  1   1   0\n",
    "10 -->  1  0   1   0\n",
    "--------------------\n",
    "        1   1   0  0  ----->> 12\n",
    "'''\n",
    "print "
   ]
  },
  {
   "cell_type": "code",
   "execution_count": null,
   "metadata": {},
   "outputs": [],
   "source": [
    "# bitwise not   ~\n",
    "'''\n",
    "0  ---->> 1\n",
    "1  ---->> 0\n",
    "'''\n",
    "print ~ 5\n",
    "'''\n",
    "5 --->>  0  1   0  1\n",
    "~5 -->   1  0   1  0 ===>> 10\n",
    "'''\n",
    "print\n",
    "print ~ 120 #####  - (120 + 1) #  -(n+1)\n"
   ]
  },
  {
   "cell_type": "code",
   "execution_count": null,
   "metadata": {},
   "outputs": [],
   "source": [
    "'''\n",
    "# leftshift operator    num << bit_pos\n",
    "\n",
    "num ---->> binary\n",
    "num << n_bits  ---->> remove the left side last n_bits and then  add the n_bits of zeros at right side\n",
    "\n",
    "'''\n",
    "print 10 << 3\n",
    "print 32 <<2"
   ]
  },
  {
   "cell_type": "code",
   "execution_count": null,
   "metadata": {},
   "outputs": [],
   "source": [
    "'''\n",
    "# rightshift operator    num >> bit_pos\n",
    "\n",
    "num ---->> binary\n",
    "num >> n_bits  ---->> remove the right side last n_bits and then  add the n_bits of zeros at left side\n",
    "\n",
    "'''\n",
    "print 10 >> 3\n",
    "print 32 >> 2"
   ]
  },
  {
   "cell_type": "code",
   "execution_count": null,
   "metadata": {},
   "outputs": [],
   "source": [
    "# 243 << 4\n",
    "# 1272 >> 3\n",
    "\n",
    "# 0 9640 987 960"
   ]
  },
  {
   "cell_type": "code",
   "execution_count": 2,
   "metadata": {},
   "outputs": [
    {
     "name": "stdout",
     "output_type": "stream",
     "text": [
      "enter number : 44\n",
      "44  is even :  True\n"
     ]
    }
   ],
   "source": [
    "# wap find the given number is even or not using bitwise operator\n",
    "#num = input(\"enter number : \")\n",
    "#rem = num %2\n",
    "#print num,\" is even : \",rem == 0\n",
    "'''\n",
    "0 ------->>0  0  0  0\n",
    "2 ------->>0  0  1  0\n",
    "4 ------->>0  1  0  0\n",
    "6 ------->>0  1  1  0\n",
    "8 ------->>1  0  0  0\n",
    "10------->>1  0  1  0\n",
    "12------->>1  1  0  0\n",
    "'''\n",
    "'''\n",
    "1 ------->>0  0  0  1\n",
    "3 ------->>0  0  1  1\n",
    "5 ------->>0  1  0  1\n",
    "7 ------->>0  1  1  1\n",
    "9 ------->>1  0  0  1\n",
    "11------->>1  0  1  1\n",
    "13------->>1  1  0  1\n",
    "'''\n",
    "#num &1 ===>> 0 ---->> even\n",
    "#num & 1===>> 1 ---->> odd\n",
    "num = input(\"enter number : \")\n",
    "res = num & 1\n",
    "print num,\" is even : \",res == 0"
   ]
  },
  {
   "cell_type": "code",
   "execution_count": null,
   "metadata": {},
   "outputs": [],
   "source": [
    "# control statements\n",
    "# function\n",
    "# modules \n",
    "# files\n",
    "# regular\n",
    "# exception ----->>> 50 % done / python \n",
    "\n",
    "#\n"
   ]
  },
  {
   "cell_type": "code",
   "execution_count": null,
   "metadata": {},
   "outputs": [],
   "source": [
    "# 6:30 am as per ist  --->> advanced concepts  python\\\n",
    "\n",
    "#oops\n",
    "# multithreadig\n",
    "# networking \n",
    "# data base\n",
    "# gui\n",
    "# from monday onwords \n",
    "\n",
    "# 9:45 am as per ist  --->> advanced oops"
   ]
  },
  {
   "cell_type": "code",
   "execution_count": 3,
   "metadata": {},
   "outputs": [],
   "source": [
    "# 6:30 am as ist--->> for advanced concepts \n",
    "# 9:45 am as ist --->> for advanced concepts\n",
    "# 8:00 am as ist --->> for basic python \n",
    "# after finishing the basic python i can start data sceince"
   ]
  },
  {
   "cell_type": "code",
   "execution_count": 7,
   "metadata": {},
   "outputs": [
    {
     "name": "stdout",
     "output_type": "stream",
     "text": [
      "enter a number : 89\n",
      "enter which bit position to toggle : 6\n",
      "0b1011001\n",
      "0b11001\n"
     ]
    }
   ],
   "source": [
    "###wap find toggle the 5 th bit position\n",
    "#5 ===>> 0 0 0 0 0 1 0 1\n",
    "num = input(\"enter a number : \")\n",
    "bit = input(\"enter which bit position to toggle : \")\n",
    "print bin(num)\n",
    "print bin(num ^(1<<bit))"
   ]
  },
  {
   "cell_type": "code",
   "execution_count": 10,
   "metadata": {},
   "outputs": [
    {
     "name": "stdout",
     "output_type": "stream",
     "text": [
      "enter a number : 89\n",
      "enter which bit position to toggle : 5\n",
      "0b1011001\n",
      "0b1111001\n"
     ]
    }
   ],
   "source": [
    "###wap find set the n th bit position\n",
    "#5 ===>> 0 0 0 0 0 1 0 1\n",
    "num = input(\"enter a number : \")\n",
    "bit = input(\"enter which bit position to toggle : \")\n",
    "print bin(num)\n",
    "print bin(num | (1<<bit))"
   ]
  },
  {
   "cell_type": "code",
   "execution_count": 11,
   "metadata": {},
   "outputs": [],
   "source": [
    "###wap find clear the n th bit position"
   ]
  },
  {
   "cell_type": "code",
   "execution_count": null,
   "metadata": {},
   "outputs": [],
   "source": [
    "# monday onword --->> 6:30 am as per ist for advanced python\n",
    "# monday onwords -->> 8:00 am as per ist for basic python"
   ]
  }
 ],
 "metadata": {
  "kernelspec": {
   "display_name": "Python 2",
   "language": "python",
   "name": "python2"
  },
  "language_info": {
   "codemirror_mode": {
    "name": "ipython",
    "version": 2
   },
   "file_extension": ".py",
   "mimetype": "text/x-python",
   "name": "python",
   "nbconvert_exporter": "python",
   "pygments_lexer": "ipython2",
   "version": "2.7.16"
  }
 },
 "nbformat": 4,
 "nbformat_minor": 2
}
