{
 "cells": [
  {
   "cell_type": "markdown",
   "metadata": {},
   "source": [
    "#### Operators \n",
    "\n",
    "===>>> The symbols are used for to do some operations on operands \n",
    "\n",
    "#### Operands \n",
    "\n",
    "===>>>  The data with in the operations \n",
    "\n",
    "#### operations \n",
    "\n",
    "===>>> The process of solving the equations \n",
    "\n",
    "#### Operators are  classified based on  2 ways \n",
    "\n",
    "1. Based on operands \n",
    "\n",
    "----->>> Based on the no of operands with in the operations\n",
    "\n",
    "        1. unary operator\n",
    "        \n",
    "            -->> A operator which is operating on single operands\n",
    "            \n",
    "        2. Binary operator\n",
    "        \n",
    "            -->> A operator which is operating on single operands\n",
    "\n",
    "2. Based on Operations \n",
    "\n",
    "==>> arithmetic operators\n",
    "\n",
    "==>> relational operators\n",
    "\n",
    "==>> Logical operators\n",
    "\n",
    "==>> Assignment operators\n",
    "\n",
    "==>> Special Operators\n",
    "\n",
    "==>> bitwise operators"
   ]
  },
  {
   "cell_type": "code",
   "execution_count": 1,
   "metadata": {},
   "outputs": [
    {
     "name": "stdout",
     "output_type": "stream",
     "text": [
      "123\n",
      "-50\n",
      "False\n",
      "-35\n"
     ]
    }
   ],
   "source": [
    "# unary operatos  --->> single operator vs single operand\n",
    "print  +  123 # unary plus\n",
    "print  - 50 # unary minus\n",
    "print  not True # unary logical not \n",
    "print ~ 34 #  -35"
   ]
  },
  {
   "cell_type": "code",
   "execution_count": 2,
   "metadata": {},
   "outputs": [
    {
     "name": "stdout",
     "output_type": "stream",
     "text": [
      "30\n",
      "True\n"
     ]
    }
   ],
   "source": [
    "# binary operators  --->> single operatorvs two operands \n",
    "print 10 + 20 # arithmetic binary plus\n",
    "print  10 < 40# relational lessthan opeprators\n"
   ]
  },
  {
   "cell_type": "code",
   "execution_count": 3,
   "metadata": {},
   "outputs": [
    {
     "name": "stdout",
     "output_type": "stream",
     "text": [
      "enter a : 45\n",
      "enter b : 2\n",
      "add :  47\n",
      "sub :  43\n",
      "mul :  90\n",
      "div :  22\n",
      "rem :  1\n"
     ]
    }
   ],
   "source": [
    "# Arithmetic operator\n",
    "'''\n",
    "addition              +\n",
    "subtraction           -\n",
    "multiplication        *\n",
    "division              /\n",
    "modulus               %\n",
    "'''\n",
    "#wap applay all arithmetic operators \n",
    "a  = input(\"enter a : \")\n",
    "b  = input(\"enter b : \")\n",
    "print \"add : \",a+b\n",
    "print \"sub : \",a-b\n",
    "print \"mul : \",a*b\n",
    "print \"div : \",a/b\n",
    "print \"rem : \",a%b"
   ]
  },
  {
   "cell_type": "code",
   "execution_count": 4,
   "metadata": {},
   "outputs": [
    {
     "name": "stdout",
     "output_type": "stream",
     "text": [
      "enter a : 45.0\n",
      "enter b : 2.0\n",
      "add :  47.0\n",
      "sub :  43.0\n",
      "mul :  90.0\n",
      "div :  22.5\n",
      "rem :  1.0\n"
     ]
    }
   ],
   "source": [
    "#wap applay all arithmetic operators \n",
    "a  = input(\"enter a : \")\n",
    "b  = input(\"enter b : \")\n",
    "print \"add : \",a+b\n",
    "print \"sub : \",a-b\n",
    "print \"mul : \",a*b\n",
    "print \"div : \",a/b\n",
    "print \"rem : \",a%b"
   ]
  },
  {
   "cell_type": "code",
   "execution_count": 5,
   "metadata": {},
   "outputs": [
    {
     "name": "stdout",
     "output_type": "stream",
     "text": [
      "22\n",
      "22\n",
      "22.0\n",
      "22.5\n"
     ]
    }
   ],
   "source": [
    "# 2 more operators \n",
    "'''\n",
    "floor division    //  \n",
    "exponant          **\n",
    "'''\n",
    "a = 45\n",
    "b =2\n",
    "print a//b\n",
    "print a/b\n",
    "a = 45.0\n",
    "b =2.0\n",
    "print a//b\n",
    "print a/b\n"
   ]
  },
  {
   "cell_type": "code",
   "execution_count": 7,
   "metadata": {},
   "outputs": [
    {
     "name": "stdout",
     "output_type": "stream",
     "text": [
      "24\n",
      "144\n",
      "1000\n"
     ]
    }
   ],
   "source": [
    "a = 12\n",
    "b =2\n",
    "print a *b\n",
    "print a ** b\n",
    "print 10 ** 3"
   ]
  },
  {
   "cell_type": "code",
   "execution_count": 10,
   "metadata": {},
   "outputs": [
    {
     "name": "stdout",
     "output_type": "stream",
     "text": [
      "48000\n"
     ]
    }
   ],
   "source": [
    "# wap find the intrest for 2% per 100 and my priciple 100000 for 2 years\n",
    "t = 2*12\n",
    "p = 100000\n",
    "r = 2\n",
    "SI = ( p * t*r)/100\n",
    "print SI"
   ]
  },
  {
   "cell_type": "code",
   "execution_count": null,
   "metadata": {},
   "outputs": [],
   "source": [
    "# wap find the area of triangle and perimter\n",
    "# wap find the area and peri of square\n",
    "# w"
   ]
  },
  {
   "cell_type": "code",
   "execution_count": null,
   "metadata": {},
   "outputs": [],
   "source": []
  },
  {
   "cell_type": "code",
   "execution_count": null,
   "metadata": {},
   "outputs": [],
   "source": []
  }
 ],
 "metadata": {
  "kernelspec": {
   "display_name": "Python 2",
   "language": "python",
   "name": "python2"
  },
  "language_info": {
   "codemirror_mode": {
    "name": "ipython",
    "version": 2
   },
   "file_extension": ".py",
   "mimetype": "text/x-python",
   "name": "python",
   "nbconvert_exporter": "python",
   "pygments_lexer": "ipython2",
   "version": "2.7.16"
  }
 },
 "nbformat": 4,
 "nbformat_minor": 2
}
