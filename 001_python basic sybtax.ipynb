{
 "cells": [
  {
   "cell_type": "code",
   "execution_count": 3,
   "metadata": {},
   "outputs": [
    {
     "name": "stdout",
     "output_type": "stream",
     "text": [
      "hello\n",
      "hai\n",
      "bye\n"
     ]
    }
   ],
   "source": [
    "# single line comment  ---->> not executable\n",
    "'''\n",
    "-->> this is \n",
    "multiline \n",
    "comment\n",
    "'''\n",
    "print(\"hello\") # statement --->> executable\n",
    "print(\"hai\")  # statement\n",
    "print(\"bye\" )  # statemnt"
   ]
  },
  {
   "cell_type": "code",
   "execution_count": 4,
   "metadata": {},
   "outputs": [
    {
     "name": "stdout",
     "output_type": "stream",
     "text": [
      "['and', 'as', 'assert', 'break', 'class', 'continue', 'def', 'del', 'elif', 'else', 'except', 'exec', 'finally', 'for', 'from', 'global', 'if', 'import', 'in', 'is', 'lambda', 'not', 'or', 'pass', 'print', 'raise', 'return', 'try', 'while', 'with', 'yield']\n"
     ]
    }
   ],
   "source": [
    "# keywords\n",
    "'''\n",
    "===>> pre defined words / built-in words\n",
    "===>> each and every keyword which having its own specific task\n",
    "'''\n",
    "import keyword\n",
    "print keyword.kwlist\n"
   ]
  },
  {
   "cell_type": "code",
   "execution_count": 5,
   "metadata": {},
   "outputs": [
    {
     "name": "stdout",
     "output_type": "stream",
     "text": [
      "123\n"
     ]
    }
   ],
   "source": [
    "# identifier\n",
    "'''\n",
    "===>> user defined words \n",
    "===>> to give the name entities for variables , functions, classes \n",
    "'''\n",
    "# rules \n",
    "'''\n",
    "===>>> we can use alphabets   a -z / A-Z\n",
    "===>>> we can use digits      0-9\n",
    "===>>> we can use underscore  _\n",
    "===>>> don't start with digit   \n",
    "===>>> don't use keywords \n",
    "===>>> don't use special characters\n",
    "'''\n",
    "# variable\n",
    "'''\n",
    "===>>> A name it can store some data with in the memory location\n",
    "===>>> we can access the data from memory loc\n",
    "'''\n",
    "var = 123\n",
    "print var"
   ]
  },
  {
   "cell_type": "code",
   "execution_count": 6,
   "metadata": {},
   "outputs": [
    {
     "name": "stdout",
     "output_type": "stream",
     "text": [
      "123\n"
     ]
    }
   ],
   "source": [
    "va_A12 = 123\n",
    "print va_A12"
   ]
  },
  {
   "cell_type": "code",
   "execution_count": 7,
   "metadata": {},
   "outputs": [
    {
     "ename": "SyntaxError",
     "evalue": "invalid syntax (<ipython-input-7-c22f7fdc6005>, line 1)",
     "output_type": "error",
     "traceback": [
      "\u001b[1;36m  File \u001b[1;32m\"<ipython-input-7-c22f7fdc6005>\"\u001b[1;36m, line \u001b[1;32m1\u001b[0m\n\u001b[1;33m    2var =123\u001b[0m\n\u001b[1;37m       ^\u001b[0m\n\u001b[1;31mSyntaxError\u001b[0m\u001b[1;31m:\u001b[0m invalid syntax\n"
     ]
    }
   ],
   "source": [
    "2var =123"
   ]
  },
  {
   "cell_type": "code",
   "execution_count": 8,
   "metadata": {},
   "outputs": [
    {
     "ename": "SyntaxError",
     "evalue": "invalid syntax (<ipython-input-8-6c262a69cd61>, line 1)",
     "output_type": "error",
     "traceback": [
      "\u001b[1;36m  File \u001b[1;32m\"<ipython-input-8-6c262a69cd61>\"\u001b[1;36m, line \u001b[1;32m1\u001b[0m\n\u001b[1;33m    v@3 = 123\u001b[0m\n\u001b[1;37m     ^\u001b[0m\n\u001b[1;31mSyntaxError\u001b[0m\u001b[1;31m:\u001b[0m invalid syntax\n"
     ]
    }
   ],
   "source": [
    "v@3 = 123"
   ]
  },
  {
   "cell_type": "code",
   "execution_count": 9,
   "metadata": {},
   "outputs": [
    {
     "ename": "SyntaxError",
     "evalue": "invalid syntax (<ipython-input-9-1d33d7e05c41>, line 1)",
     "output_type": "error",
     "traceback": [
      "\u001b[1;36m  File \u001b[1;32m\"<ipython-input-9-1d33d7e05c41>\"\u001b[1;36m, line \u001b[1;32m1\u001b[0m\n\u001b[1;33m    while =123\u001b[0m\n\u001b[1;37m          ^\u001b[0m\n\u001b[1;31mSyntaxError\u001b[0m\u001b[1;31m:\u001b[0m invalid syntax\n"
     ]
    }
   ],
   "source": [
    "while =123"
   ]
  },
  {
   "cell_type": "code",
   "execution_count": 12,
   "metadata": {},
   "outputs": [
    {
     "name": "stdout",
     "output_type": "stream",
     "text": [
      "123\n",
      "<type 'int'>\n",
      "-123\n",
      "<type 'int'>\n",
      "0\n",
      "<type 'int'>\n"
     ]
    }
   ],
   "source": [
    "# Datatype :-\n",
    "'''\n",
    "===>> we can specify the what type of data holded by variable\n",
    "\n",
    "'''\n",
    "#  types of datatypes\n",
    "# 1. fundametal datatype\n",
    "'''\n",
    "====>>> A  single variable can hold single data \n",
    "        1. int  ---->>> all real numbers ( -ve / +ve/ 0)\n",
    "        2. float --->>> all real decimal point  ( 12.9 , -23.1,0.1.)\n",
    "        3. complex-->>>  x+yj ( x---> real  , y ---> image)\n",
    "        4. bool ---->>>  True / False\n",
    "        5. Nonetype-->>  None\n",
    "\n",
    "'''\n",
    "# 2. sequencial datatype\n",
    "'''\n",
    "===>>> A single variable can hold mutiple data elements\n",
    "    1. str --->> \" \"\n",
    "    2. list -->> []\n",
    "    3. tuple --> ()\n",
    "    4. set --->  {} ---> elements wise\n",
    "    5. dict -->  {} ---> item wise \n",
    "\n",
    "'''\n",
    "var = 123\n",
    "print var\n",
    "print type(var)\n",
    "var = -123\n",
    "print var\n",
    "print type(var)\n",
    "var = 0\n",
    "print var\n",
    "print type(var)"
   ]
  },
  {
   "cell_type": "code",
   "execution_count": 13,
   "metadata": {},
   "outputs": [
    {
     "name": "stdout",
     "output_type": "stream",
     "text": [
      "1.23\n",
      "<type 'float'>\n",
      "-12.333\n",
      "<type 'float'>\n",
      "0.0\n",
      "<type 'float'>\n"
     ]
    }
   ],
   "source": [
    "var = 1.23\n",
    "print var\n",
    "print type(var)\n",
    "var = -12.333\n",
    "print var\n",
    "print type(var)\n",
    "var = 0.0\n",
    "print var\n",
    "print type(var)"
   ]
  },
  {
   "cell_type": "code",
   "execution_count": 14,
   "metadata": {},
   "outputs": [
    {
     "name": "stdout",
     "output_type": "stream",
     "text": [
      "(3+4j)\n",
      "<type 'complex'>\n"
     ]
    }
   ],
   "source": [
    "var = 3 + 4j\n",
    "print var\n",
    "print type(var)"
   ]
  },
  {
   "cell_type": "code",
   "execution_count": 16,
   "metadata": {},
   "outputs": [
    {
     "name": "stdout",
     "output_type": "stream",
     "text": [
      "False\n",
      "<type 'bool'>\n",
      "True\n",
      "<type 'bool'>\n"
     ]
    }
   ],
   "source": [
    "var = False\n",
    "print var\n",
    "print type(var)\n",
    "var = True\n",
    "print var\n",
    "print type(var)"
   ]
  },
  {
   "cell_type": "code",
   "execution_count": 17,
   "metadata": {},
   "outputs": [
    {
     "name": "stdout",
     "output_type": "stream",
     "text": [
      "None\n",
      "<type 'NoneType'>\n"
     ]
    }
   ],
   "source": [
    "var = None\n",
    "print var\n",
    "print type(var)"
   ]
  },
  {
   "cell_type": "code",
   "execution_count": 18,
   "metadata": {},
   "outputs": [
    {
     "name": "stdout",
     "output_type": "stream",
     "text": [
      "python\n",
      "<type 'str'>\n"
     ]
    }
   ],
   "source": [
    "#  sequencial datatype\n",
    "var = \"python\"\n",
    "print var\n",
    "print type(var)"
   ]
  },
  {
   "cell_type": "code",
   "execution_count": 19,
   "metadata": {},
   "outputs": [
    {
     "name": "stdout",
     "output_type": "stream",
     "text": [
      "[12, 3, 4.3]\n",
      "<type 'list'>\n"
     ]
    }
   ],
   "source": [
    "var = [12,3,4.3]\n",
    "print var\n",
    "print type(var)"
   ]
  },
  {
   "cell_type": "code",
   "execution_count": 20,
   "metadata": {},
   "outputs": [
    {
     "name": "stdout",
     "output_type": "stream",
     "text": [
      "(12, 4, 4)\n",
      "<type 'tuple'>\n"
     ]
    }
   ],
   "source": [
    "var = (12,4,4)\n",
    "print var\n",
    "print type(var)"
   ]
  },
  {
   "cell_type": "code",
   "execution_count": 21,
   "metadata": {},
   "outputs": [
    {
     "name": "stdout",
     "output_type": "stream",
     "text": [
      "set([9, 3, 12])\n",
      "<type 'set'>\n"
     ]
    }
   ],
   "source": [
    "var = {12,9,3}\n",
    "print var\n",
    "print type(var)"
   ]
  },
  {
   "cell_type": "code",
   "execution_count": 22,
   "metadata": {},
   "outputs": [
    {
     "name": "stdout",
     "output_type": "stream",
     "text": [
      "{90: 123, 12: 'soc'}\n",
      "<type 'dict'>\n"
     ]
    }
   ],
   "source": [
    "var = {12 : \"soc\" , 90 :123}\n",
    "print var\n",
    "print type(var)"
   ]
  },
  {
   "cell_type": "code",
   "execution_count": 23,
   "metadata": {},
   "outputs": [
    {
     "name": "stdout",
     "output_type": "stream",
     "text": [
      "{90: 123, 12: 'soc'}\n",
      "<type 'dict'>\n",
      "123\n"
     ]
    }
   ],
   "source": [
    "var = {12 : \"soc\" , 90 :123}\n",
    "print var\n",
    "print type(var)\n",
    "print var[90]"
   ]
  },
  {
   "cell_type": "code",
   "execution_count": 2,
   "metadata": {},
   "outputs": [
    {
     "name": "stdout",
     "output_type": "stream",
     "text": [
      "enter int data only : -455\n",
      "data in var :  -455\n",
      "memory      :  70615952\n",
      "<type 'int'>\n"
     ]
    }
   ],
   "source": [
    "# input() ---->>> to read the data from  keyboard\n",
    "# print()----->>> to display the data\n",
    "# id () ----->>> memory loc\n",
    "# type() ---->> datatype \n",
    "var = input(\"enter int data only : \")\n",
    "print \"data in var : \",var\n",
    "print \"memory      : \",id(var)\n",
    "print type(var)"
   ]
  },
  {
   "cell_type": "code",
   "execution_count": 3,
   "metadata": {},
   "outputs": [
    {
     "name": "stdout",
     "output_type": "stream",
     "text": [
      "enter float data only : 78.5656\n",
      "data in var :  78.5656\n",
      "memory      :  72932296\n",
      "<type 'float'>\n"
     ]
    }
   ],
   "source": [
    "# input() ---->>> to read the data from  keyboard\n",
    "# print()----->>> to display the data\n",
    "# id () ----->>> memory loc\n",
    "# type() ---->> datatype \n",
    "var = input(\"enter float data only : \")\n",
    "print \"data in var : \",var\n",
    "print \"memory      : \",id(var)\n",
    "print type(var)"
   ]
  },
  {
   "cell_type": "code",
   "execution_count": 4,
   "metadata": {},
   "outputs": [
    {
     "name": "stdout",
     "output_type": "stream",
     "text": [
      "enter Bool data only : True\n",
      "data in var :  True\n",
      "memory      :  1592114920\n",
      "<type 'bool'>\n"
     ]
    }
   ],
   "source": [
    "# input() ---->>> to read the data from  keyboard\n",
    "# print()----->>> to display the data\n",
    "# id () ----->>> memory loc\n",
    "# type() ---->> datatype \n",
    "var = input(\"enter Bool data only : \")\n",
    "print \"data in var : \",var\n",
    "print \"memory      : \",id(var)\n",
    "print type(var)"
   ]
  },
  {
   "cell_type": "code",
   "execution_count": 5,
   "metadata": {},
   "outputs": [
    {
     "name": "stdout",
     "output_type": "stream",
     "text": [
      "enter bool data only : False\n",
      "data in var :  False\n",
      "memory      :  1592114504\n",
      "<type 'bool'>\n"
     ]
    }
   ],
   "source": [
    "# input() ---->>> to read the data from  keyboard\n",
    "# print()----->>> to display the data\n",
    "# id () ----->>> memory loc\n",
    "# type() ---->> datatype \n",
    "var = input(\"enter bool data only : \")\n",
    "print \"data in var : \",var\n",
    "print \"memory      : \",id(var)\n",
    "print type(var)"
   ]
  },
  {
   "cell_type": "code",
   "execution_count": 6,
   "metadata": {},
   "outputs": [
    {
     "name": "stdout",
     "output_type": "stream",
     "text": [
      "enter complex data only : 78 + 7j\n",
      "data in var :  (78+7j)\n",
      "memory      :  73439312\n",
      "<type 'complex'>\n"
     ]
    }
   ],
   "source": [
    "# input() ---->>> to read the data from  keyboard\n",
    "# print()----->>> to display the data\n",
    "# id () ----->>> memory loc\n",
    "# type() ---->> datatype \n",
    "var = input(\"enter complex data only : \")\n",
    "print \"data in var : \",var\n",
    "print \"memory      : \",id(var)\n",
    "print type(var)"
   ]
  },
  {
   "cell_type": "code",
   "execution_count": 7,
   "metadata": {},
   "outputs": [
    {
     "name": "stdout",
     "output_type": "stream",
     "text": [
      "enter NOne type  data only : None\n",
      "data in var :  None\n",
      "memory      :  1592069240\n",
      "<type 'NoneType'>\n"
     ]
    }
   ],
   "source": [
    "# input() ---->>> to read the data from  keyboard\n",
    "# print()----->>> to display the data\n",
    "# id () ----->>> memory loc\n",
    "# type() ---->> datatype \n",
    "var = input(\"enter NOne type  data only : \")\n",
    "print \"data in var : \",var\n",
    "print \"memory      : \",id(var)\n",
    "print type(var)"
   ]
  },
  {
   "cell_type": "code",
   "execution_count": 8,
   "metadata": {},
   "outputs": [
    {
     "name": "stdout",
     "output_type": "stream",
     "text": [
      "enter str data only : \"python program\"\n",
      "data in var :  python program\n",
      "memory      :  79747664\n",
      "<type 'str'>\n"
     ]
    }
   ],
   "source": [
    "# input() ---->>> to read the data from  keyboard\n",
    "# print()----->>> to display the data\n",
    "# id () ----->>> memory loc\n",
    "# type() ---->> datatype \n",
    "var = input(\"enter str data only : \")\n",
    "print \"data in var : \",var\n",
    "print \"memory      : \",id(var)\n",
    "print type(var)"
   ]
  },
  {
   "cell_type": "code",
   "execution_count": 9,
   "metadata": {},
   "outputs": [
    {
     "name": "stdout",
     "output_type": "stream",
     "text": [
      "enter list data only : [12,45,2]\n",
      "data in var :  [12, 45, 2]\n",
      "memory      :  73422152\n",
      "<type 'list'>\n"
     ]
    }
   ],
   "source": [
    "# input() ---->>> to read the data from  keyboard\n",
    "# print()----->>> to display the data\n",
    "# id () ----->>> memory loc\n",
    "# type() ---->> datatype \n",
    "var = input(\"enter list data only : \")\n",
    "print \"data in var : \",var\n",
    "print \"memory      : \",id(var)\n",
    "print type(var)"
   ]
  },
  {
   "cell_type": "code",
   "execution_count": 10,
   "metadata": {},
   "outputs": [
    {
     "name": "stdout",
     "output_type": "stream",
     "text": [
      "enter tuple data only : (12,45,2)\n",
      "data in var :  (12, 45, 2)\n",
      "memory      :  78001640\n",
      "<type 'tuple'>\n"
     ]
    }
   ],
   "source": [
    "# input() ---->>> to read the data from  keyboard\n",
    "# print()----->>> to display the data\n",
    "# id () ----->>> memory loc\n",
    "# type() ---->> datatype \n",
    "var = input(\"enter tuple data only : \")\n",
    "print \"data in var : \",var\n",
    "print \"memory      : \",id(var)\n",
    "print type(var)"
   ]
  },
  {
   "cell_type": "code",
   "execution_count": 11,
   "metadata": {},
   "outputs": [
    {
     "name": "stdout",
     "output_type": "stream",
     "text": [
      "enter set data only : {1,4,2}\n",
      "data in var :  set([1, 2, 4])\n",
      "memory      :  70176552\n",
      "<type 'set'>\n"
     ]
    }
   ],
   "source": [
    "# input() ---->>> to read the data from  keyboard\n",
    "# print()----->>> to display the data\n",
    "# id () ----->>> memory loc\n",
    "# type() ---->> datatype \n",
    "var = input(\"enter set data only : \")\n",
    "print \"data in var : \",var\n",
    "print \"memory      : \",id(var)\n",
    "print type(var)"
   ]
  },
  {
   "cell_type": "code",
   "execution_count": 12,
   "metadata": {},
   "outputs": [
    {
     "name": "stdout",
     "output_type": "stream",
     "text": [
      "enter dict data only : {23 : \"f\" ,  56:567}\n",
      "data in var :  {56: 567, 23: 'f'}\n",
      "memory      :  80631464\n",
      "<type 'dict'>\n"
     ]
    }
   ],
   "source": [
    "# input() ---->>> to read the data from  keyboard\n",
    "# print()----->>> to display the data\n",
    "# id () ----->>> memory loc\n",
    "# type() ---->> datatype \n",
    "var = input(\"enter dict data only : \")\n",
    "print \"data in var : \",var\n",
    "print \"memory      : \",id(var)\n",
    "print type(var)"
   ]
  },
  {
   "cell_type": "code",
   "execution_count": null,
   "metadata": {},
   "outputs": [],
   "source": []
  }
 ],
 "metadata": {
  "kernelspec": {
   "display_name": "Python 2",
   "language": "python",
   "name": "python2"
  },
  "language_info": {
   "codemirror_mode": {
    "name": "ipython",
    "version": 2
   },
   "file_extension": ".py",
   "mimetype": "text/x-python",
   "name": "python",
   "nbconvert_exporter": "python",
   "pygments_lexer": "ipython2",
   "version": "2.7.16"
  }
 },
 "nbformat": 4,
 "nbformat_minor": 2
}
