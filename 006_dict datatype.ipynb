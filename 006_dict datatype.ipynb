{
 "cells": [
  {
   "cell_type": "code",
   "execution_count": 2,
   "metadata": {},
   "outputs": [
    {
     "name": "stdout",
     "output_type": "stream",
     "text": [
      "{56: 'python', 12: 'soc', 14: 'soft'}\n",
      "<type 'dict'>\n"
     ]
    }
   ],
   "source": [
    "# dict datatye --> {key : value --> ( item ) , key : value}\n",
    "var = { 12 : \"soc\" , 14 : \"soft\" , 56:\"python\"}\n",
    "print var\n",
    "print type(var)\n",
    "# unorder datatype\n",
    "# its not supporting indexing  , slicing , dicing "
   ]
  },
  {
   "cell_type": "code",
   "execution_count": 3,
   "metadata": {},
   "outputs": [
    {
     "ename": "KeyError",
     "evalue": "1",
     "output_type": "error",
     "traceback": [
      "\u001b[1;31m---------------------------------------------------------------------------\u001b[0m",
      "\u001b[1;31mKeyError\u001b[0m                                  Traceback (most recent call last)",
      "\u001b[1;32m<ipython-input-3-5b3a7446249b>\u001b[0m in \u001b[0;36m<module>\u001b[1;34m()\u001b[0m\n\u001b[0;32m      1\u001b[0m \u001b[0mvar\u001b[0m \u001b[1;33m=\u001b[0m \u001b[1;33m{\u001b[0m \u001b[1;36m12\u001b[0m \u001b[1;33m:\u001b[0m \u001b[1;34m\"soc\"\u001b[0m \u001b[1;33m,\u001b[0m \u001b[1;36m14\u001b[0m \u001b[1;33m:\u001b[0m \u001b[1;34m\"soft\"\u001b[0m \u001b[1;33m,\u001b[0m \u001b[1;36m56\u001b[0m\u001b[1;33m:\u001b[0m\u001b[1;34m\"python\"\u001b[0m\u001b[1;33m}\u001b[0m\u001b[1;33m\u001b[0m\u001b[0m\n\u001b[1;32m----> 2\u001b[1;33m \u001b[1;32mprint\u001b[0m \u001b[0mvar\u001b[0m\u001b[1;33m[\u001b[0m\u001b[1;36m1\u001b[0m\u001b[1;33m]\u001b[0m\u001b[1;33m\u001b[0m\u001b[0m\n\u001b[0m",
      "\u001b[1;31mKeyError\u001b[0m: 1"
     ]
    }
   ],
   "source": [
    "var = { 12 : \"soc\" , 14 : \"soft\" , 56:\"python\"}\n",
    "print var[1]"
   ]
  },
  {
   "cell_type": "code",
   "execution_count": 4,
   "metadata": {},
   "outputs": [
    {
     "name": "stdout",
     "output_type": "stream",
     "text": [
      "{56: 'python', 12: 'soc', 14: 'soft'}\n",
      "soft\n"
     ]
    }
   ],
   "source": [
    "# its supports the key indexing \n",
    "var = { 12 : \"soc\" , 14 : \"soft\" , 56:\"python\"}\n",
    "print var\n",
    "print var[14]# \"soft\"\n"
   ]
  },
  {
   "cell_type": "code",
   "execution_count": 5,
   "metadata": {},
   "outputs": [
    {
     "name": "stdout",
     "output_type": "stream",
     "text": [
      "{56: 'python', 12: 'soc', 14: 'soft'}\n",
      "{56: 'python', 100: 'new', 12: 'soc', 14: 'soft'}\n"
     ]
    }
   ],
   "source": [
    "# dict is mutable datatype\n",
    "var = { 12 : \"soc\" , 14 : \"soft\" , 56:\"python\"}\n",
    "print var\n",
    "var[100] = \"new\"\n",
    "print var"
   ]
  },
  {
   "cell_type": "code",
   "execution_count": 6,
   "metadata": {},
   "outputs": [
    {
     "name": "stdout",
     "output_type": "stream",
     "text": [
      "{56: 'python', 12: 'soc', 14: 'soft'}\n",
      "{56: 'python', 12: 'soc', 14: 'softech'}\n"
     ]
    }
   ],
   "source": [
    "# dict is mutable datatype\n",
    "var = { 12 : \"soc\" , 14 : \"soft\" , 56:\"python\"}\n",
    "print var\n",
    "var[14] = \"softech\"\n",
    "print var"
   ]
  },
  {
   "cell_type": "code",
   "execution_count": 8,
   "metadata": {},
   "outputs": [
    {
     "name": "stdout",
     "output_type": "stream",
     "text": [
      "{56: 'python', 12: 'soc', 14: 'hello'}\n"
     ]
    }
   ],
   "source": [
    "# dict is not supports the duplicate keys \n",
    "var = { 12 : \"soc\" , 14 : \"soft\" , 56:\"python\" , 14:\"hello\"}\n",
    "print var"
   ]
  },
  {
   "cell_type": "code",
   "execution_count": 9,
   "metadata": {},
   "outputs": [
    {
     "name": "stdout",
     "output_type": "stream",
     "text": [
      "{14.1: 'soft', None: 'Nonetype', 12: 'soc', (5+3j): 'python', True: 'hello'}\n"
     ]
    }
   ],
   "source": [
    "# as a keys we can int , float, bool , complex , none , str, tuple\n",
    "# if i use list, set, dict ---> we can get an error\n",
    "var = { 12 : \"soc\" , 14.1 : \"soft\" , 5+3j:\"python\" , True:\"hello\",None:\"Nonetype\"}\n",
    "print var"
   ]
  },
  {
   "cell_type": "code",
   "execution_count": 11,
   "metadata": {},
   "outputs": [
    {
     "name": "stdout",
     "output_type": "stream",
     "text": [
      "{14.1: 'soft', 'None': 'Nonetype', 12: 'soc', (5+3j): 'python', (1, 2, 3): 'hello'}\n"
     ]
    }
   ],
   "source": [
    "var = { 12 : \"soc\" , 14.1 : \"soft\" , 5+3j:\"python\" , (1,2,3):\"hello\",\"None\":\"Nonetype\"}\n",
    "print var"
   ]
  },
  {
   "cell_type": "code",
   "execution_count": 12,
   "metadata": {},
   "outputs": [
    {
     "ename": "TypeError",
     "evalue": "unhashable type: 'list'",
     "output_type": "error",
     "traceback": [
      "\u001b[1;31m---------------------------------------------------------------------------\u001b[0m",
      "\u001b[1;31mTypeError\u001b[0m                                 Traceback (most recent call last)",
      "\u001b[1;32m<ipython-input-12-4a5347719bda>\u001b[0m in \u001b[0;36m<module>\u001b[1;34m()\u001b[0m\n\u001b[1;32m----> 1\u001b[1;33m \u001b[0mvar\u001b[0m \u001b[1;33m=\u001b[0m \u001b[1;33m{\u001b[0m \u001b[1;33m[\u001b[0m\u001b[1;36m1\u001b[0m\u001b[1;33m,\u001b[0m\u001b[1;36m2\u001b[0m\u001b[1;33m]\u001b[0m \u001b[1;33m:\u001b[0m \u001b[1;34m\"soc\"\u001b[0m \u001b[1;33m,\u001b[0m \u001b[1;36m14.1\u001b[0m \u001b[1;33m:\u001b[0m \u001b[1;34m\"soft\"\u001b[0m \u001b[1;33m,\u001b[0m \u001b[1;36m5\u001b[0m\u001b[1;33m+\u001b[0m\u001b[1;36m3j\u001b[0m\u001b[1;33m:\u001b[0m\u001b[1;34m\"python\"\u001b[0m \u001b[1;33m,\u001b[0m \u001b[0mTrue\u001b[0m\u001b[1;33m:\u001b[0m\u001b[1;34m\"hello\"\u001b[0m\u001b[1;33m,\u001b[0m\u001b[0mNone\u001b[0m\u001b[1;33m:\u001b[0m\u001b[1;34m\"Nonetype\"\u001b[0m\u001b[1;33m}\u001b[0m\u001b[1;33m\u001b[0m\u001b[0m\n\u001b[0m\u001b[0;32m      2\u001b[0m \u001b[1;32mprint\u001b[0m \u001b[0mvar\u001b[0m\u001b[1;33m\u001b[0m\u001b[0m\n",
      "\u001b[1;31mTypeError\u001b[0m: unhashable type: 'list'"
     ]
    }
   ],
   "source": [
    "var = { [1,2] : \"soc\" , 14.1 : \"soft\" , 5+3j:\"python\" , True:\"hello\",None:\"Nonetype\"}\n",
    "print var"
   ]
  },
  {
   "cell_type": "code",
   "execution_count": 13,
   "metadata": {},
   "outputs": [
    {
     "ename": "TypeError",
     "evalue": "unhashable type: 'set'",
     "output_type": "error",
     "traceback": [
      "\u001b[1;31m---------------------------------------------------------------------------\u001b[0m",
      "\u001b[1;31mTypeError\u001b[0m                                 Traceback (most recent call last)",
      "\u001b[1;32m<ipython-input-13-5ec5e5c109f6>\u001b[0m in \u001b[0;36m<module>\u001b[1;34m()\u001b[0m\n\u001b[1;32m----> 1\u001b[1;33m \u001b[0mvar\u001b[0m \u001b[1;33m=\u001b[0m \u001b[1;33m{\u001b[0m \u001b[1;33m{\u001b[0m\u001b[1;36m1\u001b[0m\u001b[1;33m,\u001b[0m\u001b[1;36m2\u001b[0m\u001b[1;33m}\u001b[0m \u001b[1;33m:\u001b[0m \u001b[1;34m\"soc\"\u001b[0m \u001b[1;33m,\u001b[0m \u001b[1;36m14.1\u001b[0m \u001b[1;33m:\u001b[0m \u001b[1;34m\"soft\"\u001b[0m \u001b[1;33m,\u001b[0m \u001b[1;36m5\u001b[0m\u001b[1;33m+\u001b[0m\u001b[1;36m3j\u001b[0m\u001b[1;33m:\u001b[0m\u001b[1;34m\"python\"\u001b[0m \u001b[1;33m,\u001b[0m \u001b[0mTrue\u001b[0m\u001b[1;33m:\u001b[0m\u001b[1;34m\"hello\"\u001b[0m\u001b[1;33m,\u001b[0m\u001b[0mNone\u001b[0m\u001b[1;33m:\u001b[0m\u001b[1;34m\"Nonetype\"\u001b[0m\u001b[1;33m}\u001b[0m\u001b[1;33m\u001b[0m\u001b[0m\n\u001b[0m\u001b[0;32m      2\u001b[0m \u001b[1;32mprint\u001b[0m \u001b[0mvar\u001b[0m\u001b[1;33m\u001b[0m\u001b[0m\n",
      "\u001b[1;31mTypeError\u001b[0m: unhashable type: 'set'"
     ]
    }
   ],
   "source": [
    "var = { {1,2} : \"soc\" , 14.1 : \"soft\" , 5+3j:\"python\" , True:\"hello\",None:\"Nonetype\"}\n",
    "print var"
   ]
  },
  {
   "cell_type": "code",
   "execution_count": 14,
   "metadata": {},
   "outputs": [
    {
     "ename": "TypeError",
     "evalue": "unhashable type: 'dict'",
     "output_type": "error",
     "traceback": [
      "\u001b[1;31m---------------------------------------------------------------------------\u001b[0m",
      "\u001b[1;31mTypeError\u001b[0m                                 Traceback (most recent call last)",
      "\u001b[1;32m<ipython-input-14-e8a0505f5867>\u001b[0m in \u001b[0;36m<module>\u001b[1;34m()\u001b[0m\n\u001b[1;32m----> 1\u001b[1;33m \u001b[0mvar\u001b[0m \u001b[1;33m=\u001b[0m \u001b[1;33m{\u001b[0m \u001b[1;33m{\u001b[0m\u001b[1;36m12\u001b[0m\u001b[1;33m:\u001b[0m\u001b[1;34m\"s\"\u001b[0m\u001b[1;33m}\u001b[0m \u001b[1;33m:\u001b[0m \u001b[1;34m\"soc\"\u001b[0m \u001b[1;33m,\u001b[0m \u001b[1;36m14.1\u001b[0m \u001b[1;33m:\u001b[0m \u001b[1;34m\"soft\"\u001b[0m \u001b[1;33m,\u001b[0m \u001b[1;36m5\u001b[0m\u001b[1;33m+\u001b[0m\u001b[1;36m3j\u001b[0m\u001b[1;33m:\u001b[0m\u001b[1;34m\"python\"\u001b[0m \u001b[1;33m,\u001b[0m \u001b[0mTrue\u001b[0m\u001b[1;33m:\u001b[0m\u001b[1;34m\"hello\"\u001b[0m\u001b[1;33m,\u001b[0m\u001b[0mNone\u001b[0m\u001b[1;33m:\u001b[0m\u001b[1;34m\"Nonetype\"\u001b[0m\u001b[1;33m}\u001b[0m\u001b[1;33m\u001b[0m\u001b[0m\n\u001b[0m\u001b[0;32m      2\u001b[0m \u001b[1;32mprint\u001b[0m \u001b[0mvar\u001b[0m\u001b[1;33m\u001b[0m\u001b[0m\n",
      "\u001b[1;31mTypeError\u001b[0m: unhashable type: 'dict'"
     ]
    }
   ],
   "source": [
    "var = { {12:\"s\"} : \"soc\" , 14.1 : \"soft\" , 5+3j:\"python\" , True:\"hello\",None:\"Nonetype\"}\n",
    "print var"
   ]
  },
  {
   "cell_type": "code",
   "execution_count": 16,
   "metadata": {},
   "outputs": [
    {
     "name": "stdout",
     "output_type": "stream",
     "text": [
      "[True, 14.1, (5+3j), 78, None]\n"
     ]
    }
   ],
   "source": [
    "var = { 78 : \"soc\" , 14.1 : \"soft\" , 5+3j:\"python\" , True:\"hello\",None:\"Nonetype\"}\n",
    "print var.keys()"
   ]
  },
  {
   "cell_type": "code",
   "execution_count": 17,
   "metadata": {},
   "outputs": [
    {
     "name": "stdout",
     "output_type": "stream",
     "text": [
      "['hello', 'soft', 'python', 'soc', 'Nonetype']\n"
     ]
    }
   ],
   "source": [
    "var = { 78 : \"soc\" , 14.1 : \"soft\" , 5+3j:\"python\" , True:\"hello\",None:\"Nonetype\"}\n",
    "print var.values()"
   ]
  },
  {
   "cell_type": "code",
   "execution_count": 18,
   "metadata": {},
   "outputs": [
    {
     "name": "stdout",
     "output_type": "stream",
     "text": [
      "[(True, 'hello'), (14.1, 'soft'), ((5+3j), 'python'), (78, 'soc'), (None, 'Nonetype')]\n"
     ]
    }
   ],
   "source": [
    "var = { 78 : \"soc\" , 14.1 : \"soft\" , 5+3j:\"python\" , True:\"hello\",None:\"Nonetype\"}\n",
    "print var.items()"
   ]
  },
  {
   "cell_type": "code",
   "execution_count": 20,
   "metadata": {},
   "outputs": [
    {
     "name": "stdout",
     "output_type": "stream",
     "text": [
      "{True: 'hello', 14.1: 'soft', (5+3j): 'python', 78: 'soc', None: 'Nonetype'}\n",
      "{}\n"
     ]
    }
   ],
   "source": [
    "var = { 78 : \"soc\" , 14.1 : \"soft\" , 5+3j:\"python\" , True:\"hello\",None:\"Nonetype\"}\n",
    "print var\n",
    "var.clear()\n",
    "print var"
   ]
  },
  {
   "cell_type": "code",
   "execution_count": 21,
   "metadata": {},
   "outputs": [
    {
     "name": "stdout",
     "output_type": "stream",
     "text": [
      "{True: 'hello', 14.1: 'soft', (5+3j): 'python', 78: 'soc', None: 'Nonetype'}\n",
      "{True: 'hello', 14.1: 'soft', 78: 'soc', (5+3j): 'python', None: 'Nonetype'}\n",
      "{True: 'hello', 14.1: 'soft', (5+3j): 'python', 78: 'soc', None: 'Nonetype'}\n",
      "{True: 'hello', 100: '100', None: 'Nonetype', 14.1: 'soft', 78: 'soc', (5+3j): 'python'}\n"
     ]
    }
   ],
   "source": [
    "var = { 78 : \"soc\" , 14.1 : \"soft\" , 5+3j:\"python\" , True:\"hello\",None:\"Nonetype\"}\n",
    "b = var.copy()\n",
    "print var\n",
    "print b\n",
    "b[100]=\"100\"\n",
    "print var\n",
    "print b"
   ]
  },
  {
   "cell_type": "code",
   "execution_count": 22,
   "metadata": {},
   "outputs": [
    {
     "name": "stdout",
     "output_type": "stream",
     "text": [
      "{True: 'hello', 14.1: 'soft', (5+3j): 'python', 78: 'soc', None: 'Nonetype'}\n",
      "{True: 'hello', 14.1: 'soft', (5+3j): 'python', 78: 'soc', None: 'Nonetype'}\n",
      "{True: 'hello', 100: '100', None: 'Nonetype', 14.1: 'soft', (5+3j): 'python', 78: 'soc'}\n",
      "{True: 'hello', 100: '100', None: 'Nonetype', 14.1: 'soft', (5+3j): 'python', 78: 'soc'}\n"
     ]
    }
   ],
   "source": [
    "var = { 78 : \"soc\" , 14.1 : \"soft\" , 5+3j:\"python\" , True:\"hello\",None:\"Nonetype\"}\n",
    "b = var\n",
    "print var\n",
    "print b\n",
    "b[100]=\"100\"\n",
    "print var\n",
    "print b"
   ]
  },
  {
   "cell_type": "code",
   "execution_count": 23,
   "metadata": {},
   "outputs": [
    {
     "name": "stdout",
     "output_type": "stream",
     "text": [
      "{True: 'hello', 14.1: 'soft', (5+3j): 'python', 78: 'soc', None: 'Nonetype'}\n",
      "{True: '34', None: 'Nonetype', 14.1: 'new', (5+3j): 'python', 78: 'soc', 90: '56'}\n"
     ]
    }
   ],
   "source": [
    "var = { 78 : \"soc\" , 14.1 : \"soft\" , 5+3j:\"python\" , True:\"hello\",None:\"Nonetype\"}\n",
    "b = {1 : \"34\", 90:\"56\",14.1:\"new\"}\n",
    "print var\n",
    "var.update(b)\n",
    "print var"
   ]
  },
  {
   "cell_type": "code",
   "execution_count": 24,
   "metadata": {},
   "outputs": [
    {
     "name": "stdout",
     "output_type": "stream",
     "text": [
      "{True: 'hello', 14.1: 'soft', (5+3j): 'python', 78: 'soc', None: 'Nonetype'}\n",
      "hello\n",
      "{14.1: 'soft', (5+3j): 'python', 78: 'soc', None: 'Nonetype'}\n",
      "(14.1, 'soft')\n",
      "{(5+3j): 'python', 78: 'soc', None: 'Nonetype'}\n"
     ]
    }
   ],
   "source": [
    "var = { 78 : \"soc\" , 14.1 : \"soft\" , 5+3j:\"python\" , True:\"hello\",None:\"Nonetype\"}\n",
    "print var\n",
    "print var.pop(True)\n",
    "print var\n",
    "print var.popitem()\n",
    "print var"
   ]
  },
  {
   "cell_type": "code",
   "execution_count": 25,
   "metadata": {},
   "outputs": [
    {
     "name": "stdout",
     "output_type": "stream",
     "text": [
      "{True: 'hello', 14.1: 'soft', (5+3j): 'python', 78: 'soc', None: 'Nonetype'}\n",
      "soft\n",
      "{True: 'hello', 14.1: 'soft', (5+3j): 'python', 78: 'soc', None: 'Nonetype'}\n"
     ]
    }
   ],
   "source": [
    "var = { 78 : \"soc\" , 14.1 : \"soft\" , 5+3j:\"python\" , True:\"hello\",None:\"Nonetype\"}\n",
    "print var\n",
    "print var.get(14.1)\n",
    "print var"
   ]
  }
 ],
 "metadata": {
  "kernelspec": {
   "display_name": "Python 2",
   "language": "python",
   "name": "python2"
  },
  "language_info": {
   "codemirror_mode": {
    "name": "ipython",
    "version": 2
   },
   "file_extension": ".py",
   "mimetype": "text/x-python",
   "name": "python",
   "nbconvert_exporter": "python",
   "pygments_lexer": "ipython2",
   "version": "2.7.16"
  }
 },
 "nbformat": 4,
 "nbformat_minor": 2
}
