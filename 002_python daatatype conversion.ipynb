{
 "cells": [
  {
   "cell_type": "code",
   "execution_count": 3,
   "metadata": {},
   "outputs": [
    {
     "name": "stdout",
     "output_type": "stream",
     "text": [
      "enter int : 45\n",
      "data in var :  45\n",
      "memory loc  :  73375496\n",
      "<type 'str'>\n",
      "data in var :  45\n",
      "memory loc  :  34310256\n",
      "<type 'int'>\n"
     ]
    }
   ],
   "source": [
    "# read int raw_input() ---->> int\n",
    "var = raw_input(\"enter int : \")\n",
    "print \"data in var : \",var\n",
    "print \"memory loc  : \",id(var)\n",
    "print type(var)\n",
    "var = int(var)\n",
    "print \"data in var : \",var\n",
    "print \"memory loc  : \",id(var)\n",
    "print type(var)"
   ]
  },
  {
   "cell_type": "code",
   "execution_count": 6,
   "metadata": {},
   "outputs": [
    {
     "name": "stdout",
     "output_type": "stream",
     "text": [
      "enter float : 45.55\n",
      "data in var :  45.55\n",
      "memory loc  :  73375296\n",
      "<type 'str'>\n",
      "data in var :  45.55\n",
      "memory loc  :  66634200\n",
      "<type 'float'>\n"
     ]
    }
   ],
   "source": [
    "# read int raw_input() ---->> float\n",
    "var = raw_input(\"enter float : \")\n",
    "print \"data in var : \",var\n",
    "print \"memory loc  : \",id(var)\n",
    "print type(var)\n",
    "var = float(var)\n",
    "print \"data in var : \",var\n",
    "print \"memory loc  : \",id(var)\n",
    "print type(var)"
   ]
  },
  {
   "cell_type": "code",
   "execution_count": 8,
   "metadata": {},
   "outputs": [
    {
     "name": "stdout",
     "output_type": "stream",
     "text": [
      "enter complex : 7+3j\n",
      "data in var :  7+3j\n",
      "memory loc  :  73375296\n",
      "<type 'str'>\n",
      "data in var :  (7+3j)\n",
      "memory loc  :  67406064\n",
      "<type 'complex'>\n"
     ]
    }
   ],
   "source": [
    "# read int raw_input() ---->> complex\n",
    "var = raw_input(\"enter complex : \")\n",
    "print \"data in var : \",var\n",
    "print \"memory loc  : \",id(var)\n",
    "print type(var)\n",
    "var = complex(var)\n",
    "print \"data in var : \",var\n",
    "print \"memory loc  : \",id(var)\n",
    "print type(var)"
   ]
  },
  {
   "cell_type": "code",
   "execution_count": 10,
   "metadata": {},
   "outputs": [
    {
     "name": "stdout",
     "output_type": "stream",
     "text": [
      "enter bool : True\n",
      "data in var :  True\n",
      "memory loc  :  73375296\n",
      "<type 'str'>\n",
      "data in var :  True\n",
      "memory loc  :  1589690088\n",
      "<type 'bool'>\n"
     ]
    }
   ],
   "source": [
    "# read int raw_input() ---->> bool\n",
    "var = raw_input(\"enter bool : \")\n",
    "print \"data in var : \",var\n",
    "print \"memory loc  : \",id(var)\n",
    "print type(var)\n",
    "var = bool(var)\n",
    "print \"data in var : \",var\n",
    "print \"memory loc  : \",id(var)\n",
    "print type(var)"
   ]
  },
  {
   "cell_type": "code",
   "execution_count": 11,
   "metadata": {},
   "outputs": [],
   "source": [
    "#str()\n",
    "#list()\n",
    "#tuple()\n",
    "#set()\n",
    "#dict()"
   ]
  },
  {
   "cell_type": "code",
   "execution_count": 12,
   "metadata": {},
   "outputs": [
    {
     "name": "stdout",
     "output_type": "stream",
     "text": [
      "enter float : 12.452\n",
      "data in var :  12.452\n",
      "memory loc  :  66634152\n",
      "<type 'float'>\n",
      "data in var :  12\n",
      "memory loc  :  34309056\n",
      "<type 'int'>\n"
     ]
    }
   ],
   "source": [
    "# float--> int  ---->> success\n",
    "# complex--> int -->>can't convert complex to int\n",
    "\n",
    "# bool --->int ---->> success\n",
    "# str --->int\n",
    "# list---> int\n",
    "# tuple --> int\n",
    "# set ---> int\n",
    "# dict ---> int\n",
    "var = input(\"enter float : \")\n",
    "print \"data in var : \",var\n",
    "print \"memory loc  : \",id(var)\n",
    "print type(var)\n",
    "\n",
    "var = int(var)\n",
    "print \"data in var : \",var\n",
    "print \"memory loc  : \",id(var)\n",
    "print type(var)"
   ]
  },
  {
   "cell_type": "code",
   "execution_count": 13,
   "metadata": {},
   "outputs": [
    {
     "name": "stdout",
     "output_type": "stream",
     "text": [
      "enter complex : 7+2j\n",
      "data in var :  (7+2j)\n",
      "memory loc  :  67406064\n",
      "<type 'complex'>\n"
     ]
    },
    {
     "ename": "TypeError",
     "evalue": "can't convert complex to int",
     "output_type": "error",
     "traceback": [
      "\u001b[1;31m\u001b[0m",
      "\u001b[1;31mTypeError\u001b[0mTraceback (most recent call last)",
      "\u001b[1;32m<ipython-input-13-b9be46d442a7>\u001b[0m in \u001b[0;36m<module>\u001b[1;34m()\u001b[0m\n\u001b[0;32m      5\u001b[0m \u001b[1;32mprint\u001b[0m \u001b[0mtype\u001b[0m\u001b[1;33m(\u001b[0m\u001b[0mvar\u001b[0m\u001b[1;33m)\u001b[0m\u001b[1;33m\u001b[0m\u001b[0m\n\u001b[0;32m      6\u001b[0m \u001b[1;33m\u001b[0m\u001b[0m\n\u001b[1;32m----> 7\u001b[1;33m \u001b[0mvar\u001b[0m \u001b[1;33m=\u001b[0m \u001b[0mint\u001b[0m\u001b[1;33m(\u001b[0m\u001b[0mvar\u001b[0m\u001b[1;33m)\u001b[0m\u001b[1;33m\u001b[0m\u001b[0m\n\u001b[0m\u001b[0;32m      8\u001b[0m \u001b[1;32mprint\u001b[0m \u001b[1;34m\"data in var : \"\u001b[0m\u001b[1;33m,\u001b[0m\u001b[0mvar\u001b[0m\u001b[1;33m\u001b[0m\u001b[0m\n\u001b[0;32m      9\u001b[0m \u001b[1;32mprint\u001b[0m \u001b[1;34m\"memory loc  : \"\u001b[0m\u001b[1;33m,\u001b[0m\u001b[0mid\u001b[0m\u001b[1;33m(\u001b[0m\u001b[0mvar\u001b[0m\u001b[1;33m)\u001b[0m\u001b[1;33m\u001b[0m\u001b[0m\n",
      "\u001b[1;31mTypeError\u001b[0m: can't convert complex to int"
     ]
    }
   ],
   "source": [
    "# complex --->> int\n",
    "var = input(\"enter complex : \")\n",
    "print \"data in var : \",var\n",
    "print \"memory loc  : \",id(var)\n",
    "print type(var)\n",
    "\n",
    "var = int(var)\n",
    "print \"data in var : \",var\n",
    "print \"memory loc  : \",id(var)\n",
    "print type(var)"
   ]
  },
  {
   "cell_type": "code",
   "execution_count": 15,
   "metadata": {},
   "outputs": [
    {
     "name": "stdout",
     "output_type": "stream",
     "text": [
      "enter bool : False\n",
      "data in var :  False\n",
      "memory loc  :  1589689672\n",
      "<type 'bool'>\n",
      "data in var :  0\n",
      "memory loc  :  34309344\n",
      "<type 'int'>\n"
     ]
    }
   ],
   "source": [
    "# bool --->> int\n",
    "var = input(\"enter bool : \")\n",
    "print \"data in var : \",var\n",
    "print \"memory loc  : \",id(var)\n",
    "print type(var)\n",
    "\n",
    "var = int(var)\n",
    "print \"data in var : \",var\n",
    "print \"memory loc  : \",id(var)\n",
    "print type(var)"
   ]
  },
  {
   "cell_type": "code",
   "execution_count": 16,
   "metadata": {},
   "outputs": [
    {
     "name": "stdout",
     "output_type": "stream",
     "text": [
      "enter str : \"123\"\n",
      "data in var :  123\n",
      "memory loc  :  74469128\n",
      "<type 'str'>\n",
      "data in var :  123\n",
      "memory loc  :  34312368\n",
      "<type 'int'>\n"
     ]
    }
   ],
   "source": [
    "# str --->> int\n",
    "var = input(\"enter str : \")\n",
    "print \"data in var : \",var\n",
    "print \"memory loc  : \",id(var)\n",
    "print type(var)\n",
    "\n",
    "var = int(var)\n",
    "print \"data in var : \",var\n",
    "print \"memory loc  : \",id(var)\n",
    "print type(var)"
   ]
  },
  {
   "cell_type": "code",
   "execution_count": 20,
   "metadata": {},
   "outputs": [
    {
     "name": "stdout",
     "output_type": "stream",
     "text": [
      "enter str : \"we\"\n",
      "data in var :  we\n",
      "memory loc  :  73374296\n",
      "<type 'str'>\n"
     ]
    },
    {
     "ename": "ValueError",
     "evalue": "invalid literal for int() with base 10: 'we'",
     "output_type": "error",
     "traceback": [
      "\u001b[1;31m\u001b[0m",
      "\u001b[1;31mValueError\u001b[0mTraceback (most recent call last)",
      "\u001b[1;32m<ipython-input-20-62e4cc3d7f75>\u001b[0m in \u001b[0;36m<module>\u001b[1;34m()\u001b[0m\n\u001b[0;32m      5\u001b[0m \u001b[1;32mprint\u001b[0m \u001b[0mtype\u001b[0m\u001b[1;33m(\u001b[0m\u001b[0mvar\u001b[0m\u001b[1;33m)\u001b[0m\u001b[1;33m\u001b[0m\u001b[0m\n\u001b[0;32m      6\u001b[0m \u001b[1;33m\u001b[0m\u001b[0m\n\u001b[1;32m----> 7\u001b[1;33m \u001b[0mvar\u001b[0m \u001b[1;33m=\u001b[0m \u001b[0mint\u001b[0m\u001b[1;33m(\u001b[0m\u001b[0mvar\u001b[0m\u001b[1;33m)\u001b[0m\u001b[1;33m\u001b[0m\u001b[0m\n\u001b[0m\u001b[0;32m      8\u001b[0m \u001b[1;32mprint\u001b[0m \u001b[1;34m\"data in var : \"\u001b[0m\u001b[1;33m,\u001b[0m\u001b[0mvar\u001b[0m\u001b[1;33m\u001b[0m\u001b[0m\n\u001b[0;32m      9\u001b[0m \u001b[1;32mprint\u001b[0m \u001b[1;34m\"memory loc  : \"\u001b[0m\u001b[1;33m,\u001b[0m\u001b[0mid\u001b[0m\u001b[1;33m(\u001b[0m\u001b[0mvar\u001b[0m\u001b[1;33m)\u001b[0m\u001b[1;33m\u001b[0m\u001b[0m\n",
      "\u001b[1;31mValueError\u001b[0m: invalid literal for int() with base 10: 'we'"
     ]
    }
   ],
   "source": [
    "# str --->> int\n",
    "var = input(\"enter str : \")\n",
    "print \"data in var : \",var\n",
    "print \"memory loc  : \",id(var)\n",
    "print type(var)\n",
    "\n",
    "var = int(var)\n",
    "print \"data in var : \",var\n",
    "print \"memory loc  : \",id(var)\n",
    "print type(var)"
   ]
  },
  {
   "cell_type": "code",
   "execution_count": null,
   "metadata": {},
   "outputs": [],
   "source": []
  },
  {
   "cell_type": "code",
   "execution_count": 19,
   "metadata": {},
   "outputs": [
    {
     "name": "stdout",
     "output_type": "stream",
     "text": [
      "enter list : [1,2,3]\n",
      "data in var :  [1, 2, 3]\n",
      "memory loc  :  66838856\n",
      "<type 'list'>\n"
     ]
    },
    {
     "ename": "TypeError",
     "evalue": "int() argument must be a string or a number, not 'list'",
     "output_type": "error",
     "traceback": [
      "\u001b[1;31m\u001b[0m",
      "\u001b[1;31mTypeError\u001b[0mTraceback (most recent call last)",
      "\u001b[1;32m<ipython-input-19-804d8172bdac>\u001b[0m in \u001b[0;36m<module>\u001b[1;34m()\u001b[0m\n\u001b[0;32m      5\u001b[0m \u001b[1;32mprint\u001b[0m \u001b[0mtype\u001b[0m\u001b[1;33m(\u001b[0m\u001b[0mvar\u001b[0m\u001b[1;33m)\u001b[0m\u001b[1;33m\u001b[0m\u001b[0m\n\u001b[0;32m      6\u001b[0m \u001b[1;33m\u001b[0m\u001b[0m\n\u001b[1;32m----> 7\u001b[1;33m \u001b[0mvar\u001b[0m \u001b[1;33m=\u001b[0m \u001b[0mint\u001b[0m\u001b[1;33m(\u001b[0m\u001b[0mvar\u001b[0m\u001b[1;33m)\u001b[0m\u001b[1;33m\u001b[0m\u001b[0m\n\u001b[0m\u001b[0;32m      8\u001b[0m \u001b[1;32mprint\u001b[0m \u001b[1;34m\"data in var : \"\u001b[0m\u001b[1;33m,\u001b[0m\u001b[0mvar\u001b[0m\u001b[1;33m\u001b[0m\u001b[0m\n\u001b[0;32m      9\u001b[0m \u001b[1;32mprint\u001b[0m \u001b[1;34m\"memory loc  : \"\u001b[0m\u001b[1;33m,\u001b[0m\u001b[0mid\u001b[0m\u001b[1;33m(\u001b[0m\u001b[0mvar\u001b[0m\u001b[1;33m)\u001b[0m\u001b[1;33m\u001b[0m\u001b[0m\n",
      "\u001b[1;31mTypeError\u001b[0m: int() argument must be a string or a number, not 'list'"
     ]
    }
   ],
   "source": [
    "# list --->> int\n",
    "var = input(\"enter list : \")\n",
    "print \"data in var : \",var\n",
    "print \"memory loc  : \",id(var)\n",
    "print type(var)\n",
    "\n",
    "var = int(var)\n",
    "print \"data in var : \",var\n",
    "print \"memory loc  : \",id(var)\n",
    "print type(var)"
   ]
  },
  {
   "cell_type": "code",
   "execution_count": 21,
   "metadata": {},
   "outputs": [
    {
     "name": "stdout",
     "output_type": "stream",
     "text": [
      "enter tuple: (1,2,3)\n",
      "data in var :  (1, 2, 3)\n",
      "memory loc  :  72246904\n",
      "<type 'tuple'>\n"
     ]
    },
    {
     "ename": "TypeError",
     "evalue": "int() argument must be a string or a number, not 'tuple'",
     "output_type": "error",
     "traceback": [
      "\u001b[1;31m\u001b[0m",
      "\u001b[1;31mTypeError\u001b[0mTraceback (most recent call last)",
      "\u001b[1;32m<ipython-input-21-0fa766b1575f>\u001b[0m in \u001b[0;36m<module>\u001b[1;34m()\u001b[0m\n\u001b[0;32m      5\u001b[0m \u001b[1;32mprint\u001b[0m \u001b[0mtype\u001b[0m\u001b[1;33m(\u001b[0m\u001b[0mvar\u001b[0m\u001b[1;33m)\u001b[0m\u001b[1;33m\u001b[0m\u001b[0m\n\u001b[0;32m      6\u001b[0m \u001b[1;33m\u001b[0m\u001b[0m\n\u001b[1;32m----> 7\u001b[1;33m \u001b[0mvar\u001b[0m \u001b[1;33m=\u001b[0m \u001b[0mint\u001b[0m\u001b[1;33m(\u001b[0m\u001b[0mvar\u001b[0m\u001b[1;33m)\u001b[0m\u001b[1;33m\u001b[0m\u001b[0m\n\u001b[0m\u001b[0;32m      8\u001b[0m \u001b[1;32mprint\u001b[0m \u001b[1;34m\"data in var : \"\u001b[0m\u001b[1;33m,\u001b[0m\u001b[0mvar\u001b[0m\u001b[1;33m\u001b[0m\u001b[0m\n\u001b[0;32m      9\u001b[0m \u001b[1;32mprint\u001b[0m \u001b[1;34m\"memory loc  : \"\u001b[0m\u001b[1;33m,\u001b[0m\u001b[0mid\u001b[0m\u001b[1;33m(\u001b[0m\u001b[0mvar\u001b[0m\u001b[1;33m)\u001b[0m\u001b[1;33m\u001b[0m\u001b[0m\n",
      "\u001b[1;31mTypeError\u001b[0m: int() argument must be a string or a number, not 'tuple'"
     ]
    }
   ],
   "source": [
    "# tuple --->> int\n",
    "var = input(\"enter tuple: \")\n",
    "print \"data in var : \",var\n",
    "print \"memory loc  : \",id(var)\n",
    "print type(var)\n",
    "\n",
    "var = int(var)\n",
    "print \"data in var : \",var\n",
    "print \"memory loc  : \",id(var)\n",
    "print type(var)"
   ]
  },
  {
   "cell_type": "code",
   "execution_count": 22,
   "metadata": {},
   "outputs": [
    {
     "name": "stdout",
     "output_type": "stream",
     "text": [
      "enter set : {1,2,3}\n",
      "data in var :  set([1, 2, 3])\n",
      "memory loc  :  64024360\n",
      "<type 'set'>\n"
     ]
    },
    {
     "ename": "TypeError",
     "evalue": "int() argument must be a string or a number, not 'set'",
     "output_type": "error",
     "traceback": [
      "\u001b[1;31m\u001b[0m",
      "\u001b[1;31mTypeError\u001b[0mTraceback (most recent call last)",
      "\u001b[1;32m<ipython-input-22-cfa70ca003fb>\u001b[0m in \u001b[0;36m<module>\u001b[1;34m()\u001b[0m\n\u001b[0;32m      5\u001b[0m \u001b[1;32mprint\u001b[0m \u001b[0mtype\u001b[0m\u001b[1;33m(\u001b[0m\u001b[0mvar\u001b[0m\u001b[1;33m)\u001b[0m\u001b[1;33m\u001b[0m\u001b[0m\n\u001b[0;32m      6\u001b[0m \u001b[1;33m\u001b[0m\u001b[0m\n\u001b[1;32m----> 7\u001b[1;33m \u001b[0mvar\u001b[0m \u001b[1;33m=\u001b[0m \u001b[0mint\u001b[0m\u001b[1;33m(\u001b[0m\u001b[0mvar\u001b[0m\u001b[1;33m)\u001b[0m\u001b[1;33m\u001b[0m\u001b[0m\n\u001b[0m\u001b[0;32m      8\u001b[0m \u001b[1;32mprint\u001b[0m \u001b[1;34m\"data in var : \"\u001b[0m\u001b[1;33m,\u001b[0m\u001b[0mvar\u001b[0m\u001b[1;33m\u001b[0m\u001b[0m\n\u001b[0;32m      9\u001b[0m \u001b[1;32mprint\u001b[0m \u001b[1;34m\"memory loc  : \"\u001b[0m\u001b[1;33m,\u001b[0m\u001b[0mid\u001b[0m\u001b[1;33m(\u001b[0m\u001b[0mvar\u001b[0m\u001b[1;33m)\u001b[0m\u001b[1;33m\u001b[0m\u001b[0m\n",
      "\u001b[1;31mTypeError\u001b[0m: int() argument must be a string or a number, not 'set'"
     ]
    }
   ],
   "source": [
    "# set --->> int\n",
    "var = input(\"enter set : \")\n",
    "print \"data in var : \",var\n",
    "print \"memory loc  : \",id(var)\n",
    "print type(var)\n",
    "\n",
    "var = int(var)\n",
    "print \"data in var : \",var\n",
    "print \"memory loc  : \",id(var)\n",
    "print type(var)"
   ]
  },
  {
   "cell_type": "code",
   "execution_count": 23,
   "metadata": {},
   "outputs": [
    {
     "name": "stdout",
     "output_type": "stream",
     "text": [
      "enter dict: {12:34}\n",
      "data in var :  {12: 34}\n",
      "memory loc  :  74255624\n",
      "<type 'dict'>\n"
     ]
    },
    {
     "ename": "TypeError",
     "evalue": "int() argument must be a string or a number, not 'dict'",
     "output_type": "error",
     "traceback": [
      "\u001b[1;31m\u001b[0m",
      "\u001b[1;31mTypeError\u001b[0mTraceback (most recent call last)",
      "\u001b[1;32m<ipython-input-23-3f93c7f0498a>\u001b[0m in \u001b[0;36m<module>\u001b[1;34m()\u001b[0m\n\u001b[0;32m      5\u001b[0m \u001b[1;32mprint\u001b[0m \u001b[0mtype\u001b[0m\u001b[1;33m(\u001b[0m\u001b[0mvar\u001b[0m\u001b[1;33m)\u001b[0m\u001b[1;33m\u001b[0m\u001b[0m\n\u001b[0;32m      6\u001b[0m \u001b[1;33m\u001b[0m\u001b[0m\n\u001b[1;32m----> 7\u001b[1;33m \u001b[0mvar\u001b[0m \u001b[1;33m=\u001b[0m \u001b[0mint\u001b[0m\u001b[1;33m(\u001b[0m\u001b[0mvar\u001b[0m\u001b[1;33m)\u001b[0m\u001b[1;33m\u001b[0m\u001b[0m\n\u001b[0m\u001b[0;32m      8\u001b[0m \u001b[1;32mprint\u001b[0m \u001b[1;34m\"data in var : \"\u001b[0m\u001b[1;33m,\u001b[0m\u001b[0mvar\u001b[0m\u001b[1;33m\u001b[0m\u001b[0m\n\u001b[0;32m      9\u001b[0m \u001b[1;32mprint\u001b[0m \u001b[1;34m\"memory loc  : \"\u001b[0m\u001b[1;33m,\u001b[0m\u001b[0mid\u001b[0m\u001b[1;33m(\u001b[0m\u001b[0mvar\u001b[0m\u001b[1;33m)\u001b[0m\u001b[1;33m\u001b[0m\u001b[0m\n",
      "\u001b[1;31mTypeError\u001b[0m: int() argument must be a string or a number, not 'dict'"
     ]
    }
   ],
   "source": [
    "# dict --->> int\n",
    "var = input(\"enter dict: \")\n",
    "print \"data in var : \",var\n",
    "print \"memory loc  : \",id(var)\n",
    "print type(var)\n",
    "\n",
    "var = int(var)\n",
    "print \"data in var : \",var\n",
    "print \"memory loc  : \",id(var)\n",
    "print type(var)"
   ]
  },
  {
   "cell_type": "code",
   "execution_count": null,
   "metadata": {},
   "outputs": [],
   "source": [
    "# multiple datatypes elements with float function\n",
    "# # multiple datatypes elements with complex function\n",
    "# multiple datatypes elements with bool function\n",
    "# multiple datatypes elements with str function\n",
    "## multiple datatypes elements with list function\n",
    "# multiple datatypes elements with tuple function\n",
    "# multiple datatypes elements with dict function\n",
    "# multiple datatypes elements with set function"
   ]
  }
 ],
 "metadata": {
  "kernelspec": {
   "display_name": "Python 2",
   "language": "python",
   "name": "python2"
  },
  "language_info": {
   "codemirror_mode": {
    "name": "ipython",
    "version": 2
   },
   "file_extension": ".py",
   "mimetype": "text/x-python",
   "name": "python",
   "nbconvert_exporter": "python",
   "pygments_lexer": "ipython2",
   "version": "2.7.16"
  }
 },
 "nbformat": 4,
 "nbformat_minor": 2
}
